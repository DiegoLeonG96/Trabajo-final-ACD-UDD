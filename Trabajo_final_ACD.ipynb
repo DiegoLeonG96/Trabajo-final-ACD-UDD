{
 "cells": [
  {
   "cell_type": "markdown",
   "metadata": {},
   "source": [
    "<div>\n",
    "<img src=\"https://i.ibb.co/v3CvVz9/udd-short.png\" width=\"150\"/>\n",
    "    <br>\n",
    "    <strong>Universidad del Desarrollo</strong><br>\n",
    "    <em>Profesor: Carlos Pérez </em><br>\n",
    "\n",
    "</div>\n",
    "\n",
    "# Trabajo Final Almacenamiento y Captura de Datos\n",
    "\n",
    "Integrantes:\n",
    "- Diego León\n",
    "- Pablo Madariaga"
   ]
  },
  {
   "cell_type": "markdown",
   "metadata": {},
   "source": [
    "# Introducción\n",
    "\n",
    "El siguiente trabajo muestra el desarrollo de habilidades en Web Scraping y el uso de APIs para crear un producto de consulta de inmuebles y sus comercios cercanos. Se divide en tres partes principales:\n",
    "\n",
    "- Interacción con páginas web: Utilizando Selenium, se deberá interactuar con un sitio de búsqueda de inmuebles, extraer información clave, convertir valores monetarios de UF a pesos chilenos y resolver problemas relacionados con direcciones incompletas.\n",
    "\n",
    "- Uso de Google APIs: Con Geocoding API, se obtendrán coordenadas y el identificador de lugar de cada inmueble, mientras que con Places API se identificarán comercios cercanos.\n",
    "\n",
    "- Gestión de datos: Se requiere crear una base de datos con SQLite para almacenar y relacionar los datos obtenidos, además de realizar consultas SQL específicas para analizar los datos.\n"
   ]
  },
  {
   "cell_type": "markdown",
   "metadata": {},
   "source": [
    "## Librerias a utilizar"
   ]
  },
  {
   "cell_type": "code",
   "execution_count": 1,
   "metadata": {},
   "outputs": [],
   "source": [
    "import pandas as pd\n",
    "from selenium import webdriver\n",
    "from selenium.webdriver.common.by import By\n",
    "from selenium.webdriver.support import expected_conditions as EC\n",
    "from selenium.webdriver.support.ui import WebDriverWait\n",
    "from selenium.webdriver.common.keys import Keys\n",
    "import time  \n",
    "import time  \n",
    "import requests\n",
    "import re\n",
    "import sqlite3"
   ]
  },
  {
   "cell_type": "markdown",
   "metadata": {},
   "source": [
    "## Parte 1: Interacción con páginas web"
   ]
  },
  {
   "cell_type": "markdown",
   "metadata": {},
   "source": [
    "### Inputs"
   ]
  },
  {
   "cell_type": "code",
   "execution_count": 2,
   "metadata": {},
   "outputs": [],
   "source": [
    "API_KEY = \" \" #cambiar segun quien lo esté usando\n",
    "URL = 'https://www.portalinmobiliario.com/'\n",
    "URL_UF = 'https://www.valoruf.cl/'\n",
    "TIPO_CONTRATO = 'arriendo' # venta, arriendo o arriendo_temporal\n",
    "TIPO_INMUEBLE = 'departamentos' # dpto, casa u oficina.\n",
    "UBICACION_INMUEBLE = 'las condes' # la comuna de la búsqueda\n",
    "MONTO_MINIMO = 500000 # monto mínimo de la búsqueda\n",
    "MONTO_MAXIMO = 1300000 # monto máximo de la búsqueda\n",
    "CANT_PAGINAS = 2 # número de páginas a recorrer\n",
    "RADIO_BUSQUEDA = '300' # radio (en metros) de búsqueda de lugares cercanos\n",
    "BUSQUEDA_RUBROS = ['restaurant', 'grocery_or_supermarket'] # rubro de lugares cercanos"
   ]
  },
  {
   "cell_type": "markdown",
   "metadata": {},
   "source": [
    "### 1.1  Búsqueda inicial\n",
    "\n",
    "La única búsqueda en chat GPT fue para identificar dinámicamente la n-esima opción asociada\n",
    "a la búsqueda de la comuna"
   ]
  },
  {
   "cell_type": "code",
   "execution_count": 3,
   "metadata": {},
   "outputs": [],
   "source": [
    "tipo_contrato_dict = {\n",
    "    \"venta\": \":R2l5r:-menu-list-option-242075\",\n",
    "    \"arriendo\": \":R2l5r:-menu-list-option-242073\",\n",
    "    \"arriendo temporal\": \":R2l5r:-menu-list-option-242074\"\n",
    "}\n",
    "\n",
    "tipo_inmueble_dict = {\n",
    "    \"departamentos\": \":R4l5r:-menu-list-option-MLC1472_242062\",\n",
    "    \"casas\": \":R4l5r:-menu-list-option-MLC1466_242060\",\n",
    "    \"oficinas\": \":R4l5r:-menu-list-option-MLC1478_242067\",\n",
    "    \"parcelas\": \":R4l5r:-menu-list-option-MLC1496_242070\",\n",
    "    \"locales\": \":R4l5r:-menu-list-option-MLC50610_242065\",\n",
    "    \"terrenos\": \":R4l5r:-menu-list-option-MLC152992_245004\",\n",
    "    \"sitios\": \":R4l5r:-menu-list-option-MLC50613_245008\",\n",
    "    \"bodegas\": \":R4l5r:-menu-list-option-MLC50564_245003\",\n",
    "    \"industriales\": \":R4l5r:-menu-list-option-MLC50617_245009\",\n",
    "    \"agricolas\": \":R4l5r:-menu-list-option-MLC50623_242059\",\n",
    "    \"otros inmuebles\": \":R4l5r:-menu-list-option-MLC1892_242068\",\n",
    "    \"estacionamientos\": \":R4l5r:-menu-list-option-MLC50620_242064\",\n",
    "    \"loteos\": \":R4l5r:-menu-list-option-MLC1493_245010\",\n",
    "}"
   ]
  },
  {
   "cell_type": "markdown",
   "metadata": {},
   "source": [
    "### En la página inicial, realizamos lo siguiente:\n",
    " - Filtrar según botón de po contrato.\n",
    " - Filtrar según botón de po inmueble.\n",
    " - Filtrar según botón de comuna de búsqueda.\n",
    " - Elegir la primera sugerencia de búsqueda.\n",
    " - Hacer clic en botón BUSCAR."
   ]
  },
  {
   "cell_type": "code",
   "execution_count": 5,
   "metadata": {},
   "outputs": [],
   "source": [
    "# Configuramos el driver para el navegador Edge\n",
    "#driver = webdriver.Edge()\n",
    "driver = webdriver.Safari()\n",
    "driver.set_window_size(1200, 800)  # Ancho: 1200px, Alto: 800px\n",
    "\n",
    "driver.get(URL)\n",
    "\n",
    "# Establecemos una espera implícita de 5 segundos para que la página cargue completamente\n",
    "driver.implicitly_wait(10)\n",
    "\n",
    "buscador_comuna = WebDriverWait(driver, 10).until(\n",
    "    EC.presence_of_element_located((By.ID, \":Rml5r:\"))\n",
    ")\n",
    "\n",
    "# Ingresa una comuna o ciudad\n",
    "buscador_comuna.send_keys(UBICACION_INMUEBLE)\n",
    "\n",
    "ul_comunas = \"andes-list.faceted-search-desktop-searchbox__list.andes-list--default.andes-list--selectable\"\n",
    "resultados = WebDriverWait(driver, 20).until(\n",
    "    EC.presence_of_element_located((By.CLASS_NAME, ul_comunas))\n",
    ")\n",
    "# seleccionar primera opcion de comuna\n",
    "primer_boton = resultados.find_element(By.XPATH, \"./li[1]/button\")\n",
    "primer_boton.click()\n",
    "\n",
    "\n",
    "# desplegar la lista de tipo de contrato y clickear el tipo deseado\n",
    "lista_tipo_contrato = WebDriverWait(driver, 10).until(\n",
    "    EC.element_to_be_clickable((By.ID, \":R2l5r:-trigger\"))\n",
    ")\n",
    "lista_tipo_contrato.click()\n",
    "select_tipo_contrato = WebDriverWait(driver, 10).until(\n",
    "    EC.element_to_be_clickable((By.ID, tipo_contrato_dict[TIPO_CONTRATO]))\n",
    ")\n",
    "select_tipo_contrato.click()\n",
    "\n",
    "tipo_inmueble = TIPO_INMUEBLE.lower().replace('á', 'a').replace('é', 'e').\\\n",
    "    replace('í', 'i').replace('ó', 'o').replace('ú', 'u')\n",
    "lista_tipo_inmueble = WebDriverWait(driver, 10).until(\n",
    "    EC.element_to_be_clickable((By.ID, \":R4l5r:-trigger\"))\n",
    ")\n",
    "lista_tipo_inmueble.click()\n",
    "\n",
    "select_tipo_inmueble = WebDriverWait(driver, 10).until(\n",
    "    EC.element_to_be_clickable((By.ID, tipo_inmueble_dict[tipo_inmueble]))\n",
    ")\n",
    "select_tipo_inmueble.click()\n",
    "\n",
    "\n",
    "# apretar buscar\n",
    "buscador = driver.find_element('id', ':R355r:')\n",
    "buscador.click()\n"
   ]
  },
  {
   "cell_type": "markdown",
   "metadata": {},
   "source": [
    "### 1.2 Selección de restricciones\n",
    "\n",
    "Seleccionar rango de precio, entre 500000 a 1300000 pesos."
   ]
  },
  {
   "cell_type": "code",
   "execution_count": 6,
   "metadata": {},
   "outputs": [],
   "source": [
    "ingreso_precio_min = driver.find_element('id', ':R5chjmee:')\n",
    "ingreso_precio_min.send_keys(MONTO_MINIMO)\n",
    "\n",
    "ingreso_precio_max = driver.find_element('id', ':R6chjmee:')\n",
    "ingreso_precio_max.send_keys(MONTO_MAXIMO)\n",
    "ingreso_precio_max.send_keys(Keys.RETURN)"
   ]
  },
  {
   "cell_type": "markdown",
   "metadata": {},
   "source": [
    "### 1.3 Recorrer inmuebles\n",
    "\n",
    "- Para recorrer las páginas se decide navegar entre las urls implícitas en el botón siguiente.\n",
    "Esto porque al intentar clickear el botón a veces se bloquea y a veces no, lo cual es un comportamiento\n",
    "intermitente no deseable\n",
    "\n",
    "- Se agrega una columna temporal \"Tipo Moneda\" para saber que propiedades tienen el precio en UF\n",
    "\n",
    "- Al igual que los links de las publicaciones, la información restante (título, dirección y precio) pueden\n",
    "extraerse directamente sin navegar a cada página. Sin embargo, como se pide navegar a cada página, entonces\n",
    "se extraen solo los links de forma directa y se navega a cada uno para obtener el resto de la información.\n",
    "\n",
    "Es importante que esta forma de extraer la información es considerablemente más lenta."
   ]
  },
  {
   "cell_type": "code",
   "execution_count": 7,
   "metadata": {},
   "outputs": [
    {
     "data": {
      "text/html": [
       "<div>\n",
       "<style scoped>\n",
       "    .dataframe tbody tr th:only-of-type {\n",
       "        vertical-align: middle;\n",
       "    }\n",
       "\n",
       "    .dataframe tbody tr th {\n",
       "        vertical-align: top;\n",
       "    }\n",
       "\n",
       "    .dataframe thead th {\n",
       "        text-align: right;\n",
       "    }\n",
       "</style>\n",
       "<table border=\"1\" class=\"dataframe\">\n",
       "  <thead>\n",
       "    <tr style=\"text-align: right;\">\n",
       "      <th></th>\n",
       "      <th>Título</th>\n",
       "      <th>Precio</th>\n",
       "      <th>Dirección</th>\n",
       "      <th>Enlace</th>\n",
       "      <th>Tipo moneda</th>\n",
       "    </tr>\n",
       "  </thead>\n",
       "  <tbody>\n",
       "    <tr>\n",
       "      <th>0</th>\n",
       "      <td>Spot Nueva Kennedy</td>\n",
       "      <td>19</td>\n",
       "      <td>Av. Manquehue Nte. 958, Las Condes, Parque Ara...</td>\n",
       "      <td>https://portalinmobiliario.com/MLC-1555797337-...</td>\n",
       "      <td>UF</td>\n",
       "    </tr>\n",
       "    <tr>\n",
       "      <th>1</th>\n",
       "      <td>Vespucio Switch</td>\n",
       "      <td>974560</td>\n",
       "      <td>Av. Américo Vespucio Sur 345, Metro Escuela Mi...</td>\n",
       "      <td>https://portalinmobiliario.com/MLC-1525161537-...</td>\n",
       "      <td>CLP</td>\n",
       "    </tr>\n",
       "    <tr>\n",
       "      <th>2</th>\n",
       "      <td>Augusto Leguía</td>\n",
       "      <td>815000</td>\n",
       "      <td>Augusto Leguía Nte. 70, Barrio El Golf, Las Co...</td>\n",
       "      <td>https://portalinmobiliario.com/MLC-2648931672-...</td>\n",
       "      <td>CLP</td>\n",
       "    </tr>\n",
       "    <tr>\n",
       "      <th>3</th>\n",
       "      <td>Somma Asturias - Edificio Multifamily</td>\n",
       "      <td>790000</td>\n",
       "      <td>Asturias 77, Metro Escuela Militar, Las Condes...</td>\n",
       "      <td>https://portalinmobiliario.com/MLC-1408634227-...</td>\n",
       "      <td>CLP</td>\n",
       "    </tr>\n",
       "    <tr>\n",
       "      <th>4</th>\n",
       "      <td>Dpto Amoblado Remodelado 2d+2b Los Militares C...</td>\n",
       "      <td>27</td>\n",
       "      <td>Los Militares 4717, Metro Escuela Militar, Las...</td>\n",
       "      <td>https://portalinmobiliario.com/MLC-2814352114-...</td>\n",
       "      <td>UF</td>\n",
       "    </tr>\n",
       "  </tbody>\n",
       "</table>\n",
       "</div>"
      ],
      "text/plain": [
       "                                              Título  Precio  \\\n",
       "0                                 Spot Nueva Kennedy      19   \n",
       "1                                    Vespucio Switch  974560   \n",
       "2                                     Augusto Leguía  815000   \n",
       "3              Somma Asturias - Edificio Multifamily  790000   \n",
       "4  Dpto Amoblado Remodelado 2d+2b Los Militares C...      27   \n",
       "\n",
       "                                           Dirección  \\\n",
       "0  Av. Manquehue Nte. 958, Las Condes, Parque Ara...   \n",
       "1  Av. Américo Vespucio Sur 345, Metro Escuela Mi...   \n",
       "2  Augusto Leguía Nte. 70, Barrio El Golf, Las Co...   \n",
       "3  Asturias 77, Metro Escuela Militar, Las Condes...   \n",
       "4  Los Militares 4717, Metro Escuela Militar, Las...   \n",
       "\n",
       "                                              Enlace Tipo moneda  \n",
       "0  https://portalinmobiliario.com/MLC-1555797337-...          UF  \n",
       "1  https://portalinmobiliario.com/MLC-1525161537-...         CLP  \n",
       "2  https://portalinmobiliario.com/MLC-2648931672-...         CLP  \n",
       "3  https://portalinmobiliario.com/MLC-1408634227-...         CLP  \n",
       "4  https://portalinmobiliario.com/MLC-2814352114-...          UF  "
      ]
     },
     "execution_count": 7,
     "metadata": {},
     "output_type": "execute_result"
    }
   ],
   "source": [
    "from selenium.common.exceptions import InvalidArgumentException\n",
    "\n",
    "titulos, precios, direcciones, links_props = [], [], [], []\n",
    "\n",
    "for i in range(CANT_PAGINAS):\n",
    "    # Lo mismo para los enlaces\n",
    "    links_props_values = driver.find_elements(By.XPATH,  \"//h2[@class='poly-box poly-component__title']/a\")\n",
    "    links_props += [l.get_attribute('href') for l in links_props_values]\n",
    "\n",
    "    if i<CANT_PAGINAS-1: # hacer click en siguiente\n",
    "        try:\n",
    "            boton_siguiente = driver.find_element(By.XPATH, \"//li[contains(@class, 'andes-pagination__button--next')]/a\")\n",
    "            url_siguiente = boton_siguiente.get_attribute(\"href\")\n",
    "            driver.get(url_siguiente)\n",
    "        except InvalidArgumentException: # se piden mas paginas de las que hay\n",
    "            pass\n",
    "\n",
    "# se navega a cada url para obtener titulo, precio y direccion\n",
    "for url in links_props:\n",
    "    driver.get(url)\n",
    "    titulo_texto = driver.find_element(By.XPATH, \"//h1[@class='ui-pdp-title']\").text\n",
    "    precio_texto = driver.find_element(By.XPATH, \"//span[@class='andes-money-amount__fraction']\").text\n",
    "    direccion_texto = driver.find_element(By.XPATH, \n",
    "                    \"//div[@class='ui-pdp-media ui-vip-location__subtitle ui-pdp-color--BLACK']/div[@class='ui-pdp-media__body']/p[@class='ui-pdp-color--BLACK ui-pdp-size--SMALL ui-pdp-family--REGULAR ui-pdp-media__title']\").text\n",
    "\n",
    "    titulos.append(titulo_texto)\n",
    "    precios.append(precio_texto)\n",
    "    direcciones.append(direccion_texto)\n",
    "\n",
    "data_scrapping = pd.DataFrame({\n",
    "    \"Título\": titulos,\n",
    "    \"Precio\": precios,\n",
    "    \"Dirección\": direcciones,\n",
    "    \"Enlace\": links_props\n",
    "})\n",
    "\n",
    "# diferenciar precios en UF\n",
    "data_scrapping['Precio'] = data_scrapping['Precio'].str.replace(' ', '')\n",
    "data_scrapping['Precio'] = data_scrapping['Precio'].str.replace('.', '')\n",
    "data_scrapping['Precio'] = data_scrapping['Precio'].str.replace('$', '')\n",
    "data_scrapping['Precio'] = data_scrapping['Precio'].str.replace('UF', '')\n",
    "data_scrapping['Precio'] = data_scrapping['Precio'].astype(int)\n",
    "data_scrapping['Tipo moneda'] = 'CLP'\n",
    "out_borders = (data_scrapping['Precio']>MONTO_MAXIMO) | (data_scrapping['Precio']<MONTO_MINIMO)\n",
    "data_scrapping.loc[out_borders, 'Tipo moneda'] = 'UF'\n",
    "data_scrapping.head(5)"
   ]
  },
  {
   "cell_type": "markdown",
   "metadata": {},
   "source": [
    "### Cantidad de propiedades encontradas"
   ]
  },
  {
   "cell_type": "code",
   "execution_count": 8,
   "metadata": {},
   "outputs": [
    {
     "data": {
      "text/plain": [
       "96"
      ]
     },
     "execution_count": 8,
     "metadata": {},
     "output_type": "execute_result"
    }
   ],
   "source": [
    "len(data_scrapping)"
   ]
  },
  {
   "cell_type": "code",
   "execution_count": 9,
   "metadata": {},
   "outputs": [
    {
     "data": {
      "text/plain": [
       "count    9.600000e+01\n",
       "mean     5.264011e+05\n",
       "std      4.761229e+05\n",
       "min      1.600000e+01\n",
       "25%      2.575000e+01\n",
       "50%      6.700000e+05\n",
       "75%      9.250000e+05\n",
       "max      1.300000e+06\n",
       "Name: Precio, dtype: float64"
      ]
     },
     "execution_count": 9,
     "metadata": {},
     "output_type": "execute_result"
    }
   ],
   "source": [
    "data_scrapping['Precio'].describe()"
   ]
  },
  {
   "cell_type": "markdown",
   "metadata": {},
   "source": [
    "Como se puede ver, el máximo de precio se condice con la restricción y el mínimo no cumple debido a los precios en UF."
   ]
  },
  {
   "cell_type": "markdown",
   "metadata": {},
   "source": [
    "### 1.4 Valor UF\n",
    "\n",
    "Buscamos el valor al día de la UF."
   ]
  },
  {
   "cell_type": "code",
   "execution_count": 10,
   "metadata": {},
   "outputs": [
    {
     "name": "stdout",
     "output_type": "stream",
     "text": [
      "El valor de la UF actualizado es: 38421.65\n"
     ]
    }
   ],
   "source": [
    "# Configuramos el driver para el navegador Edge\n",
    "#driver = webdriver.Edge()\n",
    "driver = webdriver.Safari()\n",
    "driver.set_window_size(1200, 800)  # Ancho: 1200px, Alto: 800px\n",
    "\n",
    "driver.get(URL_UF)\n",
    "\n",
    "# Establecemos una espera implícita de 5 segundos para que la página cargue completamente\n",
    "driver.implicitly_wait(10)\n",
    "valor_uf = driver.find_element(By.XPATH, \"//span[@class='vpr']\").text\n",
    "valor_uf = float(valor_uf.replace('$', '').replace(' ', '').replace('.', '').replace(',', '.'))\n",
    "print(f'El valor de la UF actualizado es: {valor_uf}')\n",
    "\n",
    "time.sleep(5)\n",
    "driver.close() \n"
   ]
  },
  {
   "cell_type": "markdown",
   "metadata": {},
   "source": [
    "### Convertimos los precios marcados como UF a CLP."
   ]
  },
  {
   "cell_type": "code",
   "execution_count": 11,
   "metadata": {},
   "outputs": [
    {
     "data": {
      "text/html": [
       "<div>\n",
       "<style scoped>\n",
       "    .dataframe tbody tr th:only-of-type {\n",
       "        vertical-align: middle;\n",
       "    }\n",
       "\n",
       "    .dataframe tbody tr th {\n",
       "        vertical-align: top;\n",
       "    }\n",
       "\n",
       "    .dataframe thead th {\n",
       "        text-align: right;\n",
       "    }\n",
       "</style>\n",
       "<table border=\"1\" class=\"dataframe\">\n",
       "  <thead>\n",
       "    <tr style=\"text-align: right;\">\n",
       "      <th></th>\n",
       "      <th>Título</th>\n",
       "      <th>Precio</th>\n",
       "      <th>Dirección</th>\n",
       "      <th>Enlace</th>\n",
       "    </tr>\n",
       "  </thead>\n",
       "  <tbody>\n",
       "    <tr>\n",
       "      <th>0</th>\n",
       "      <td>Spot Nueva Kennedy</td>\n",
       "      <td>730011</td>\n",
       "      <td>Av. Manquehue Nte. 958, Las Condes, Parque Ara...</td>\n",
       "      <td>https://portalinmobiliario.com/MLC-1555797337-...</td>\n",
       "    </tr>\n",
       "    <tr>\n",
       "      <th>1</th>\n",
       "      <td>Vespucio Switch</td>\n",
       "      <td>974560</td>\n",
       "      <td>Av. Américo Vespucio Sur 345, Metro Escuela Mi...</td>\n",
       "      <td>https://portalinmobiliario.com/MLC-1525161537-...</td>\n",
       "    </tr>\n",
       "    <tr>\n",
       "      <th>2</th>\n",
       "      <td>Augusto Leguía</td>\n",
       "      <td>815000</td>\n",
       "      <td>Augusto Leguía Nte. 70, Barrio El Golf, Las Co...</td>\n",
       "      <td>https://portalinmobiliario.com/MLC-2648931672-...</td>\n",
       "    </tr>\n",
       "    <tr>\n",
       "      <th>3</th>\n",
       "      <td>Somma Asturias - Edificio Multifamily</td>\n",
       "      <td>790000</td>\n",
       "      <td>Asturias 77, Metro Escuela Militar, Las Condes...</td>\n",
       "      <td>https://portalinmobiliario.com/MLC-1408634227-...</td>\n",
       "    </tr>\n",
       "    <tr>\n",
       "      <th>4</th>\n",
       "      <td>Dpto Amoblado Remodelado 2d+2b Los Militares C...</td>\n",
       "      <td>1037384</td>\n",
       "      <td>Los Militares 4717, Metro Escuela Militar, Las...</td>\n",
       "      <td>https://portalinmobiliario.com/MLC-2814352114-...</td>\n",
       "    </tr>\n",
       "  </tbody>\n",
       "</table>\n",
       "</div>"
      ],
      "text/plain": [
       "                                              Título   Precio  \\\n",
       "0                                 Spot Nueva Kennedy   730011   \n",
       "1                                    Vespucio Switch   974560   \n",
       "2                                     Augusto Leguía   815000   \n",
       "3              Somma Asturias - Edificio Multifamily   790000   \n",
       "4  Dpto Amoblado Remodelado 2d+2b Los Militares C...  1037384   \n",
       "\n",
       "                                           Dirección  \\\n",
       "0  Av. Manquehue Nte. 958, Las Condes, Parque Ara...   \n",
       "1  Av. Américo Vespucio Sur 345, Metro Escuela Mi...   \n",
       "2  Augusto Leguía Nte. 70, Barrio El Golf, Las Co...   \n",
       "3  Asturias 77, Metro Escuela Militar, Las Condes...   \n",
       "4  Los Militares 4717, Metro Escuela Militar, Las...   \n",
       "\n",
       "                                              Enlace  \n",
       "0  https://portalinmobiliario.com/MLC-1555797337-...  \n",
       "1  https://portalinmobiliario.com/MLC-1525161537-...  \n",
       "2  https://portalinmobiliario.com/MLC-2648931672-...  \n",
       "3  https://portalinmobiliario.com/MLC-1408634227-...  \n",
       "4  https://portalinmobiliario.com/MLC-2814352114-...  "
      ]
     },
     "execution_count": 11,
     "metadata": {},
     "output_type": "execute_result"
    }
   ],
   "source": [
    "data_scrapping_procesada = data_scrapping.copy()\n",
    "data_scrapping_procesada['Precio'] = data_scrapping_procesada.apply(lambda row: row['Precio']*valor_uf \\\n",
    "    if row['Tipo moneda'] == 'UF' else row['Precio'], axis = 1)\n",
    "data_scrapping_procesada['Precio'] = data_scrapping_procesada['Precio'].astype(int)\n",
    "data_scrapping_procesada.drop(['Tipo moneda'], axis = 1, inplace = True)\n",
    "data_scrapping_procesada = data_scrapping_procesada[(data_scrapping_procesada['Precio']>=MONTO_MINIMO) & (data_scrapping_procesada['Precio']<=MONTO_MAXIMO)]\n",
    "data_scrapping_procesada.head(5)"
   ]
  },
  {
   "cell_type": "code",
   "execution_count": 12,
   "metadata": {},
   "outputs": [
    {
     "data": {
      "text/plain": [
       "count    9.600000e+01\n",
       "mean     9.034035e+05\n",
       "std      2.042327e+05\n",
       "min      5.550000e+05\n",
       "25%      7.275000e+05\n",
       "50%      9.000000e+05\n",
       "75%      1.075806e+06\n",
       "max      1.300000e+06\n",
       "Name: Precio, dtype: float64"
      ]
     },
     "execution_count": 12,
     "metadata": {},
     "output_type": "execute_result"
    }
   ],
   "source": [
    "data_scrapping_procesada['Precio'].describe()"
   ]
  },
  {
   "cell_type": "markdown",
   "metadata": {},
   "source": [
    "Se puede ver que ahora efectivamente, el precio está dentro de rango permitido de 550.000 hasta 1.300.000 pesos."
   ]
  },
  {
   "cell_type": "markdown",
   "metadata": {},
   "source": [
    "### 1.5 Procesamiento direcciones"
   ]
  },
  {
   "cell_type": "markdown",
   "metadata": {},
   "source": [
    "Direcciones con problemas: intervalos numéricos sin dar la dirección exacta\n",
    "\n",
    "Se consulta chat GPT por el pattern exacto a ocupar"
   ]
  },
  {
   "cell_type": "code",
   "execution_count": 13,
   "metadata": {},
   "outputs": [
    {
     "name": "stderr",
     "output_type": "stream",
     "text": [
      "/var/folders/mf/j5c_wycn5cdgbkl59yvppg500000gn/T/ipykernel_1461/558544235.py:3: UserWarning: This pattern is interpreted as a regular expression, and has match groups. To actually get the groups, use str.extract.\n",
      "  data_scrapping_procesada[data_scrapping_procesada['Dirección'].str.contains(pattern, flags=re.IGNORECASE, regex=True)].head(10)\n"
     ]
    },
    {
     "data": {
      "text/html": [
       "<div>\n",
       "<style scoped>\n",
       "    .dataframe tbody tr th:only-of-type {\n",
       "        vertical-align: middle;\n",
       "    }\n",
       "\n",
       "    .dataframe tbody tr th {\n",
       "        vertical-align: top;\n",
       "    }\n",
       "\n",
       "    .dataframe thead th {\n",
       "        text-align: right;\n",
       "    }\n",
       "</style>\n",
       "<table border=\"1\" class=\"dataframe\">\n",
       "  <thead>\n",
       "    <tr style=\"text-align: right;\">\n",
       "      <th></th>\n",
       "      <th>Título</th>\n",
       "      <th>Precio</th>\n",
       "      <th>Dirección</th>\n",
       "      <th>Enlace</th>\n",
       "    </tr>\n",
       "  </thead>\n",
       "  <tbody>\n",
       "    <tr>\n",
       "      <th>15</th>\n",
       "      <td>Guanabara 2d2b + Est Y Bdga, Las Condes</td>\n",
       "      <td>1180000</td>\n",
       "      <td>Guanabara 900 - 1200, Las Condes, Rotonda Aten...</td>\n",
       "      <td>https://portalinmobiliario.com/MLC-2814805660-...</td>\n",
       "    </tr>\n",
       "    <tr>\n",
       "      <th>21</th>\n",
       "      <td>Arrienda Studio Nuevo Amoblado Moderno Edifici...</td>\n",
       "      <td>690000</td>\n",
       "      <td>Las Tranqueras 1 - 300, Las Condes, Alto Las C...</td>\n",
       "      <td>https://portalinmobiliario.com/MLC-2812221716-...</td>\n",
       "    </tr>\n",
       "    <tr>\n",
       "      <th>29</th>\n",
       "      <td>Metro Escuela Militar/albacete/2 Dormitorios/2...</td>\n",
       "      <td>1075806</td>\n",
       "      <td>Albacete 4200 - 4500, Metro Escuela Militar, L...</td>\n",
       "      <td>https://portalinmobiliario.com/MLC-1564396001-...</td>\n",
       "    </tr>\n",
       "    <tr>\n",
       "      <th>34</th>\n",
       "      <td>Oportunidad, Departamento De 1 Dormitorio Con ...</td>\n",
       "      <td>700000</td>\n",
       "      <td>Hnos Cabot 7800 - 8100, Las Condes, Alto Las C...</td>\n",
       "      <td>https://portalinmobiliario.com/MLC-2814626488-...</td>\n",
       "    </tr>\n",
       "    <tr>\n",
       "      <th>41</th>\n",
       "      <td>Excelente Depto. Un Dorm.  Amoblado A Pasos Me...</td>\n",
       "      <td>730000</td>\n",
       "      <td>Evaristo Lillo 29, Depto 1 - 300, Las Condes, ...</td>\n",
       "      <td>https://portalinmobiliario.com/MLC-2805523956-...</td>\n",
       "    </tr>\n",
       "    <tr>\n",
       "      <th>42</th>\n",
       "      <td>Excelente Depto. 1 Dorm. Amoblado Metro Alcantara</td>\n",
       "      <td>940000</td>\n",
       "      <td>Alsacia 1 - 300, Las Condes, Barrio El Golf, L...</td>\n",
       "      <td>https://portalinmobiliario.com/MLC-1560527075-...</td>\n",
       "    </tr>\n",
       "    <tr>\n",
       "      <th>49</th>\n",
       "      <td>Dpto Amoblado De 1d1b Con Estacionamiento En L...</td>\n",
       "      <td>700000</td>\n",
       "      <td>Las Verbenas 7800 - 8100, Las Condes, Alto Las...</td>\n",
       "      <td>https://portalinmobiliario.com/MLC-2800458820-...</td>\n",
       "    </tr>\n",
       "    <tr>\n",
       "      <th>50</th>\n",
       "      <td>Depto Nuevo 2d Mariposa, Terraza Y Amenities E...</td>\n",
       "      <td>1152649</td>\n",
       "      <td>Av. Las Condes 10500 - 10800, Las Condes, Esto...</td>\n",
       "      <td>https://portalinmobiliario.com/MLC-2814786802-...</td>\n",
       "    </tr>\n",
       "    <tr>\n",
       "      <th>52</th>\n",
       "      <td>Nuevo 2d Mariposa, Terraza, Piscina Y Quincho,...</td>\n",
       "      <td>1152649</td>\n",
       "      <td>Av. Las Condes 10500 - 10800, Las Condes, Esto...</td>\n",
       "      <td>https://portalinmobiliario.com/MLC-1562477369-...</td>\n",
       "    </tr>\n",
       "    <tr>\n",
       "      <th>57</th>\n",
       "      <td>Departamento Familiar A Pasos De Rotonda Atenas</td>\n",
       "      <td>1200000</td>\n",
       "      <td>Robinson Crusoe 900 - 1200, Las Condes, Rotond...</td>\n",
       "      <td>https://portalinmobiliario.com/MLC-2818345382-...</td>\n",
       "    </tr>\n",
       "  </tbody>\n",
       "</table>\n",
       "</div>"
      ],
      "text/plain": [
       "                                               Título   Precio  \\\n",
       "15            Guanabara 2d2b + Est Y Bdga, Las Condes  1180000   \n",
       "21  Arrienda Studio Nuevo Amoblado Moderno Edifici...   690000   \n",
       "29  Metro Escuela Militar/albacete/2 Dormitorios/2...  1075806   \n",
       "34  Oportunidad, Departamento De 1 Dormitorio Con ...   700000   \n",
       "41  Excelente Depto. Un Dorm.  Amoblado A Pasos Me...   730000   \n",
       "42  Excelente Depto. 1 Dorm. Amoblado Metro Alcantara   940000   \n",
       "49  Dpto Amoblado De 1d1b Con Estacionamiento En L...   700000   \n",
       "50  Depto Nuevo 2d Mariposa, Terraza Y Amenities E...  1152649   \n",
       "52  Nuevo 2d Mariposa, Terraza, Piscina Y Quincho,...  1152649   \n",
       "57    Departamento Familiar A Pasos De Rotonda Atenas  1200000   \n",
       "\n",
       "                                            Dirección  \\\n",
       "15  Guanabara 900 - 1200, Las Condes, Rotonda Aten...   \n",
       "21  Las Tranqueras 1 - 300, Las Condes, Alto Las C...   \n",
       "29  Albacete 4200 - 4500, Metro Escuela Militar, L...   \n",
       "34  Hnos Cabot 7800 - 8100, Las Condes, Alto Las C...   \n",
       "41  Evaristo Lillo 29, Depto 1 - 300, Las Condes, ...   \n",
       "42  Alsacia 1 - 300, Las Condes, Barrio El Golf, L...   \n",
       "49  Las Verbenas 7800 - 8100, Las Condes, Alto Las...   \n",
       "50  Av. Las Condes 10500 - 10800, Las Condes, Esto...   \n",
       "52  Av. Las Condes 10500 - 10800, Las Condes, Esto...   \n",
       "57  Robinson Crusoe 900 - 1200, Las Condes, Rotond...   \n",
       "\n",
       "                                               Enlace  \n",
       "15  https://portalinmobiliario.com/MLC-2814805660-...  \n",
       "21  https://portalinmobiliario.com/MLC-2812221716-...  \n",
       "29  https://portalinmobiliario.com/MLC-1564396001-...  \n",
       "34  https://portalinmobiliario.com/MLC-2814626488-...  \n",
       "41  https://portalinmobiliario.com/MLC-2805523956-...  \n",
       "42  https://portalinmobiliario.com/MLC-1560527075-...  \n",
       "49  https://portalinmobiliario.com/MLC-2800458820-...  \n",
       "50  https://portalinmobiliario.com/MLC-2814786802-...  \n",
       "52  https://portalinmobiliario.com/MLC-1562477369-...  \n",
       "57  https://portalinmobiliario.com/MLC-2818345382-...  "
      ]
     },
     "execution_count": 13,
     "metadata": {},
     "output_type": "execute_result"
    }
   ],
   "source": [
    "# Expresión regular para buscar direcciones con un intervalo numérico\n",
    "pattern = r'\\b(\\d+(?:\\.\\d+)?(?:e[+-]?\\d+)?)\\s*-\\s*(\\d+(?:\\.\\d+)?(?:e[+-]?\\d+)?)\\b'\n",
    "data_scrapping_procesada[data_scrapping_procesada['Dirección'].str.contains(pattern, flags=re.IGNORECASE, regex=True)].head(10)"
   ]
  },
  {
   "cell_type": "markdown",
   "metadata": {},
   "source": [
    "Se corrige este tipo de direcciones tomando el promedio del intervalo que se da en la dirección"
   ]
  },
  {
   "cell_type": "code",
   "execution_count": 14,
   "metadata": {},
   "outputs": [
    {
     "name": "stderr",
     "output_type": "stream",
     "text": [
      "/var/folders/mf/j5c_wycn5cdgbkl59yvppg500000gn/T/ipykernel_1461/2078627988.py:13: UserWarning: This pattern is interpreted as a regular expression, and has match groups. To actually get the groups, use str.extract.\n",
      "  data_scrapping_procesada[data_scrapping_procesada['Dirección'].str.contains(pattern, flags=re.IGNORECASE, regex=True)]\n"
     ]
    },
    {
     "data": {
      "text/html": [
       "<div>\n",
       "<style scoped>\n",
       "    .dataframe tbody tr th:only-of-type {\n",
       "        vertical-align: middle;\n",
       "    }\n",
       "\n",
       "    .dataframe tbody tr th {\n",
       "        vertical-align: top;\n",
       "    }\n",
       "\n",
       "    .dataframe thead th {\n",
       "        text-align: right;\n",
       "    }\n",
       "</style>\n",
       "<table border=\"1\" class=\"dataframe\">\n",
       "  <thead>\n",
       "    <tr style=\"text-align: right;\">\n",
       "      <th></th>\n",
       "      <th>Título</th>\n",
       "      <th>Precio</th>\n",
       "      <th>Dirección</th>\n",
       "      <th>Enlace</th>\n",
       "    </tr>\n",
       "  </thead>\n",
       "  <tbody>\n",
       "  </tbody>\n",
       "</table>\n",
       "</div>"
      ],
      "text/plain": [
       "Empty DataFrame\n",
       "Columns: [Título, Precio, Dirección, Enlace]\n",
       "Index: []"
      ]
     },
     "execution_count": 14,
     "metadata": {},
     "output_type": "execute_result"
    }
   ],
   "source": [
    "def corregir_direccion(direccion):\n",
    "    match = re.search(pattern, direccion)\n",
    "    if match:\n",
    "        inicio, fin = map(float, match.groups())\n",
    "        promedio = (inicio + fin) / 2\n",
    "        return re.sub(pattern, f\"{promedio:.0f}\", direccion)\n",
    "    else:\n",
    "        return direccion\n",
    "\n",
    "\n",
    "# Crear nueva dirección procesada\n",
    "data_scrapping_procesada['Dirección'] = data_scrapping_procesada['Dirección'].apply(corregir_direccion)\n",
    "data_scrapping_procesada[data_scrapping_procesada['Dirección'].str.contains(pattern, flags=re.IGNORECASE, regex=True)]\n",
    "\n"
   ]
  },
  {
   "cell_type": "code",
   "execution_count": 15,
   "metadata": {},
   "outputs": [
    {
     "data": {
      "text/html": [
       "<div>\n",
       "<style scoped>\n",
       "    .dataframe tbody tr th:only-of-type {\n",
       "        vertical-align: middle;\n",
       "    }\n",
       "\n",
       "    .dataframe tbody tr th {\n",
       "        vertical-align: top;\n",
       "    }\n",
       "\n",
       "    .dataframe thead th {\n",
       "        text-align: right;\n",
       "    }\n",
       "</style>\n",
       "<table border=\"1\" class=\"dataframe\">\n",
       "  <thead>\n",
       "    <tr style=\"text-align: right;\">\n",
       "      <th></th>\n",
       "      <th>Título</th>\n",
       "      <th>Precio</th>\n",
       "      <th>Dirección</th>\n",
       "      <th>Enlace</th>\n",
       "    </tr>\n",
       "  </thead>\n",
       "  <tbody>\n",
       "    <tr>\n",
       "      <th>0</th>\n",
       "      <td>Spot Nueva Kennedy</td>\n",
       "      <td>730011</td>\n",
       "      <td>Av. Manquehue Nte. 958, Las Condes, Parque Ara...</td>\n",
       "      <td>https://portalinmobiliario.com/MLC-1555797337-...</td>\n",
       "    </tr>\n",
       "    <tr>\n",
       "      <th>1</th>\n",
       "      <td>Vespucio Switch</td>\n",
       "      <td>974560</td>\n",
       "      <td>Av. Américo Vespucio Sur 345, Metro Escuela Mi...</td>\n",
       "      <td>https://portalinmobiliario.com/MLC-1525161537-...</td>\n",
       "    </tr>\n",
       "    <tr>\n",
       "      <th>2</th>\n",
       "      <td>Augusto Leguía</td>\n",
       "      <td>815000</td>\n",
       "      <td>Augusto Leguía Nte. 70, Barrio El Golf, Las Co...</td>\n",
       "      <td>https://portalinmobiliario.com/MLC-2648931672-...</td>\n",
       "    </tr>\n",
       "    <tr>\n",
       "      <th>3</th>\n",
       "      <td>Somma Asturias - Edificio Multifamily</td>\n",
       "      <td>790000</td>\n",
       "      <td>Asturias 77, Metro Escuela Militar, Las Condes...</td>\n",
       "      <td>https://portalinmobiliario.com/MLC-1408634227-...</td>\n",
       "    </tr>\n",
       "    <tr>\n",
       "      <th>4</th>\n",
       "      <td>Dpto Amoblado Remodelado 2d+2b Los Militares C...</td>\n",
       "      <td>1037384</td>\n",
       "      <td>Los Militares 4717, Metro Escuela Militar, Las...</td>\n",
       "      <td>https://portalinmobiliario.com/MLC-2814352114-...</td>\n",
       "    </tr>\n",
       "  </tbody>\n",
       "</table>\n",
       "</div>"
      ],
      "text/plain": [
       "                                              Título   Precio  \\\n",
       "0                                 Spot Nueva Kennedy   730011   \n",
       "1                                    Vespucio Switch   974560   \n",
       "2                                     Augusto Leguía   815000   \n",
       "3              Somma Asturias - Edificio Multifamily   790000   \n",
       "4  Dpto Amoblado Remodelado 2d+2b Los Militares C...  1037384   \n",
       "\n",
       "                                           Dirección  \\\n",
       "0  Av. Manquehue Nte. 958, Las Condes, Parque Ara...   \n",
       "1  Av. Américo Vespucio Sur 345, Metro Escuela Mi...   \n",
       "2  Augusto Leguía Nte. 70, Barrio El Golf, Las Co...   \n",
       "3  Asturias 77, Metro Escuela Militar, Las Condes...   \n",
       "4  Los Militares 4717, Metro Escuela Militar, Las...   \n",
       "\n",
       "                                              Enlace  \n",
       "0  https://portalinmobiliario.com/MLC-1555797337-...  \n",
       "1  https://portalinmobiliario.com/MLC-1525161537-...  \n",
       "2  https://portalinmobiliario.com/MLC-2648931672-...  \n",
       "3  https://portalinmobiliario.com/MLC-1408634227-...  \n",
       "4  https://portalinmobiliario.com/MLC-2814352114-...  "
      ]
     },
     "execution_count": 15,
     "metadata": {},
     "output_type": "execute_result"
    }
   ],
   "source": [
    "data_scrapping_procesada.head(5)"
   ]
  },
  {
   "cell_type": "markdown",
   "metadata": {},
   "source": [
    "# 2. Uso de Google APIs\n",
    "\n",
    "Para la siguiente parte utilizaremos las APIs: Geocoding y places"
   ]
  },
  {
   "cell_type": "markdown",
   "metadata": {},
   "source": [
    "### Geocoding"
   ]
  },
  {
   "cell_type": "code",
   "execution_count": 16,
   "metadata": {},
   "outputs": [],
   "source": [
    "# Función para obtener datos de geocoding\n",
    "def obtener_datos_geocoding(direccion):\n",
    "    url = f\"https://maps.googleapis.com/maps/api/geocode/json?address={direccion}&key={API_KEY}\"\n",
    "    response = requests.get(url)\n",
    "    if response.status_code == 200:\n",
    "        data = response.json()\n",
    "        if data[\"results\"]:\n",
    "            geometry = data[\"results\"][0][\"geometry\"]\n",
    "            location = geometry[\"location\"]\n",
    "            place_id = data[\"results\"][0][\"place_id\"]\n",
    "            return {'geometry': {'location': location}, 'place_id': place_id}\n",
    "    return {'geometry': {'location': {'lat': None, 'lng': None}}, 'place_id': None, 'rating': None, 'user_ratings_total': None}\n",
    "\n",
    "# Añadir datos al DataFrame\n",
    "data_scrapping_procesada['Geocoding_Data'] = data_scrapping_procesada['Dirección'].apply(obtener_datos_geocoding)\n",
    "\n",
    "# Separar columnas para latitud, longitud y place_id\n",
    "data_scrapping_procesada['Latitud'] = data_scrapping_procesada['Geocoding_Data'].apply(lambda x: x['geometry']['location']['lat'])\n",
    "data_scrapping_procesada['Longitud'] = data_scrapping_procesada['Geocoding_Data'].apply(lambda x: x['geometry']['location']['lng'])\n",
    "data_scrapping_procesada['Place_ID'] = data_scrapping_procesada['Geocoding_Data'].apply(lambda x: x['place_id'])\n",
    "data_scrapping_procesada.drop(['Geocoding_Data'], axis = 1, inplace=True)"
   ]
  },
  {
   "cell_type": "code",
   "execution_count": 17,
   "metadata": {},
   "outputs": [
    {
     "data": {
      "text/html": [
       "<div>\n",
       "<style scoped>\n",
       "    .dataframe tbody tr th:only-of-type {\n",
       "        vertical-align: middle;\n",
       "    }\n",
       "\n",
       "    .dataframe tbody tr th {\n",
       "        vertical-align: top;\n",
       "    }\n",
       "\n",
       "    .dataframe thead th {\n",
       "        text-align: right;\n",
       "    }\n",
       "</style>\n",
       "<table border=\"1\" class=\"dataframe\">\n",
       "  <thead>\n",
       "    <tr style=\"text-align: right;\">\n",
       "      <th></th>\n",
       "      <th>Título</th>\n",
       "      <th>Precio</th>\n",
       "      <th>Dirección</th>\n",
       "      <th>Enlace</th>\n",
       "      <th>Latitud</th>\n",
       "      <th>Longitud</th>\n",
       "      <th>Place_ID</th>\n",
       "    </tr>\n",
       "  </thead>\n",
       "  <tbody>\n",
       "    <tr>\n",
       "      <th>0</th>\n",
       "      <td>Spot Nueva Kennedy</td>\n",
       "      <td>730011</td>\n",
       "      <td>Av. Manquehue Nte. 958, Las Condes, Parque Ara...</td>\n",
       "      <td>https://portalinmobiliario.com/MLC-1555797337-...</td>\n",
       "      <td>-33.399199</td>\n",
       "      <td>-70.571350</td>\n",
       "      <td>ChIJ3bQIbtPPYpYRHdV3dzX_lYM</td>\n",
       "    </tr>\n",
       "    <tr>\n",
       "      <th>1</th>\n",
       "      <td>Vespucio Switch</td>\n",
       "      <td>974560</td>\n",
       "      <td>Av. Américo Vespucio Sur 345, Metro Escuela Mi...</td>\n",
       "      <td>https://portalinmobiliario.com/MLC-1525161537-...</td>\n",
       "      <td>-33.417402</td>\n",
       "      <td>-70.583612</td>\n",
       "      <td>ChIJtcMsohnPYpYR_IXSuaKSuuE</td>\n",
       "    </tr>\n",
       "    <tr>\n",
       "      <th>2</th>\n",
       "      <td>Augusto Leguía</td>\n",
       "      <td>815000</td>\n",
       "      <td>Augusto Leguía Nte. 70, Barrio El Golf, Las Co...</td>\n",
       "      <td>https://portalinmobiliario.com/MLC-2648931672-...</td>\n",
       "      <td>-33.416026</td>\n",
       "      <td>-70.597734</td>\n",
       "      <td>ChIJV8yNVBXPYpYRNw_Po6puQ7c</td>\n",
       "    </tr>\n",
       "    <tr>\n",
       "      <th>3</th>\n",
       "      <td>Somma Asturias - Edificio Multifamily</td>\n",
       "      <td>790000</td>\n",
       "      <td>Asturias 77, Metro Escuela Militar, Las Condes...</td>\n",
       "      <td>https://portalinmobiliario.com/MLC-1408634227-...</td>\n",
       "      <td>-33.415309</td>\n",
       "      <td>-70.585786</td>\n",
       "      <td>ChIJHabRUejPYpYRLoiRk3yQ9rg</td>\n",
       "    </tr>\n",
       "    <tr>\n",
       "      <th>4</th>\n",
       "      <td>Dpto Amoblado Remodelado 2d+2b Los Militares C...</td>\n",
       "      <td>1037384</td>\n",
       "      <td>Los Militares 4717, Metro Escuela Militar, Las...</td>\n",
       "      <td>https://portalinmobiliario.com/MLC-2814352114-...</td>\n",
       "      <td>-33.411847</td>\n",
       "      <td>-70.580217</td>\n",
       "      <td>ChIJJ41HGSLPYpYRh0vwgaF4Pig</td>\n",
       "    </tr>\n",
       "  </tbody>\n",
       "</table>\n",
       "</div>"
      ],
      "text/plain": [
       "                                              Título   Precio  \\\n",
       "0                                 Spot Nueva Kennedy   730011   \n",
       "1                                    Vespucio Switch   974560   \n",
       "2                                     Augusto Leguía   815000   \n",
       "3              Somma Asturias - Edificio Multifamily   790000   \n",
       "4  Dpto Amoblado Remodelado 2d+2b Los Militares C...  1037384   \n",
       "\n",
       "                                           Dirección  \\\n",
       "0  Av. Manquehue Nte. 958, Las Condes, Parque Ara...   \n",
       "1  Av. Américo Vespucio Sur 345, Metro Escuela Mi...   \n",
       "2  Augusto Leguía Nte. 70, Barrio El Golf, Las Co...   \n",
       "3  Asturias 77, Metro Escuela Militar, Las Condes...   \n",
       "4  Los Militares 4717, Metro Escuela Militar, Las...   \n",
       "\n",
       "                                              Enlace    Latitud   Longitud  \\\n",
       "0  https://portalinmobiliario.com/MLC-1555797337-... -33.399199 -70.571350   \n",
       "1  https://portalinmobiliario.com/MLC-1525161537-... -33.417402 -70.583612   \n",
       "2  https://portalinmobiliario.com/MLC-2648931672-... -33.416026 -70.597734   \n",
       "3  https://portalinmobiliario.com/MLC-1408634227-... -33.415309 -70.585786   \n",
       "4  https://portalinmobiliario.com/MLC-2814352114-... -33.411847 -70.580217   \n",
       "\n",
       "                      Place_ID  \n",
       "0  ChIJ3bQIbtPPYpYRHdV3dzX_lYM  \n",
       "1  ChIJtcMsohnPYpYR_IXSuaKSuuE  \n",
       "2  ChIJV8yNVBXPYpYRNw_Po6puQ7c  \n",
       "3  ChIJHabRUejPYpYRLoiRk3yQ9rg  \n",
       "4  ChIJJ41HGSLPYpYRh0vwgaF4Pig  "
      ]
     },
     "execution_count": 17,
     "metadata": {},
     "output_type": "execute_result"
    }
   ],
   "source": [
    "data_scrapping_procesada.head(5)"
   ]
  },
  {
   "cell_type": "markdown",
   "metadata": {},
   "source": [
    "Casos no detectados con Geocoding"
   ]
  },
  {
   "cell_type": "code",
   "execution_count": 18,
   "metadata": {},
   "outputs": [
    {
     "data": {
      "text/html": [
       "<div>\n",
       "<style scoped>\n",
       "    .dataframe tbody tr th:only-of-type {\n",
       "        vertical-align: middle;\n",
       "    }\n",
       "\n",
       "    .dataframe tbody tr th {\n",
       "        vertical-align: top;\n",
       "    }\n",
       "\n",
       "    .dataframe thead th {\n",
       "        text-align: right;\n",
       "    }\n",
       "</style>\n",
       "<table border=\"1\" class=\"dataframe\">\n",
       "  <thead>\n",
       "    <tr style=\"text-align: right;\">\n",
       "      <th></th>\n",
       "      <th>Título</th>\n",
       "      <th>Precio</th>\n",
       "      <th>Dirección</th>\n",
       "      <th>Enlace</th>\n",
       "      <th>Latitud</th>\n",
       "      <th>Longitud</th>\n",
       "      <th>Place_ID</th>\n",
       "    </tr>\n",
       "  </thead>\n",
       "  <tbody>\n",
       "  </tbody>\n",
       "</table>\n",
       "</div>"
      ],
      "text/plain": [
       "Empty DataFrame\n",
       "Columns: [Título, Precio, Dirección, Enlace, Latitud, Longitud, Place_ID]\n",
       "Index: []"
      ]
     },
     "execution_count": 18,
     "metadata": {},
     "output_type": "execute_result"
    }
   ],
   "source": [
    "data_scrapping_procesada[data_scrapping_procesada[\"Place_ID\"].isnull()]"
   ]
  },
  {
   "cell_type": "markdown",
   "metadata": {},
   "source": [
    "### Places"
   ]
  },
  {
   "cell_type": "code",
   "execution_count": 19,
   "metadata": {},
   "outputs": [],
   "source": [
    "# Función para buscar lugares cerca de una ubicación según el rubro\n",
    "def buscar_lugares(lat, lng, rubro, radio=RADIO_BUSQUEDA):\n",
    "    url = \"https://maps.googleapis.com/maps/api/place/nearbysearch/json\"\n",
    "    params = {\n",
    "        \"location\": f\"{lat},{lng}\",\n",
    "        \"radius\": radio,\n",
    "        \"type\": rubro,\n",
    "        \"key\": API_KEY  # Asegúrate de tener tu API_KEY\n",
    "    }\n",
    "    response = requests.get(url, params=params)\n",
    "    if response.status_code == 200:\n",
    "        data = response.json()\n",
    "        if \"results\" in data:\n",
    "            return [(result[\"name\"], result[\"place_id\"], \n",
    "                     result[\"rating\"] if \"rating\" in result else None, \n",
    "                     result[\"user_ratings_total\"] if \"user_ratings_total\" in result else None\n",
    "                     ) for result in data[\"results\"]]\n",
    "    return []\n",
    "\n",
    "# Crear un nuevo DataFrame para almacenar los resultados\n",
    "resultados = []\n",
    "\n",
    "# Lista de rubros a buscar\n",
    "busqueda_rubros = BUSQUEDA_RUBROS  # Tipos de lugares\n",
    "radio_busqueda = RADIO_BUSQUEDA  # Radio en metros\n",
    "\n",
    "# Iterar sobre cada fila del DataFrame original\n",
    "for index, row in data_scrapping_procesada.iterrows():\n",
    "    direccion_original = row['Dirección']\n",
    "    lat, lng, place_id_original = row['Latitud'], row['Longitud'], row['Place_ID']\n",
    "    \n",
    "    # Buscar lugares para cada rubro\n",
    "    for rubro in busqueda_rubros:\n",
    "        lugares = buscar_lugares(lat, lng, rubro, radio_busqueda)\n",
    "        for lugar in lugares:\n",
    "            resultados.append({\n",
    "                \"Direccion_Original\": direccion_original,\n",
    "                \"Place_ID_Original\": place_id_original,\n",
    "                \"Rubro\": rubro,\n",
    "                \"Nombre_Lugar\": lugar[0],\n",
    "                \"Place_ID_Lugar\": lugar[1],\n",
    "                \"Rating\": lugar[2],\n",
    "                \"User_Ratings_Total\": lugar[3]\n",
    "            })\n",
    "\n",
    "# Convertir los resultados a un DataFrame\n",
    "df_lugares = pd.DataFrame(resultados)"
   ]
  },
  {
   "cell_type": "code",
   "execution_count": 20,
   "metadata": {},
   "outputs": [
    {
     "data": {
      "text/html": [
       "<div>\n",
       "<style scoped>\n",
       "    .dataframe tbody tr th:only-of-type {\n",
       "        vertical-align: middle;\n",
       "    }\n",
       "\n",
       "    .dataframe tbody tr th {\n",
       "        vertical-align: top;\n",
       "    }\n",
       "\n",
       "    .dataframe thead th {\n",
       "        text-align: right;\n",
       "    }\n",
       "</style>\n",
       "<table border=\"1\" class=\"dataframe\">\n",
       "  <thead>\n",
       "    <tr style=\"text-align: right;\">\n",
       "      <th></th>\n",
       "      <th>Direccion_Original</th>\n",
       "      <th>Place_ID_Original</th>\n",
       "      <th>Rubro</th>\n",
       "      <th>Nombre_Lugar</th>\n",
       "      <th>Place_ID_Lugar</th>\n",
       "      <th>Rating</th>\n",
       "      <th>User_Ratings_Total</th>\n",
       "    </tr>\n",
       "  </thead>\n",
       "  <tbody>\n",
       "    <tr>\n",
       "      <th>0</th>\n",
       "      <td>Av. Manquehue Nte. 958, Las Condes, Parque Ara...</td>\n",
       "      <td>ChIJ3bQIbtPPYpYRHdV3dzX_lYM</td>\n",
       "      <td>restaurant</td>\n",
       "      <td>Latin Grill</td>\n",
       "      <td>ChIJ7_fk2NfOYpYRvKmszamPz9g</td>\n",
       "      <td>4.6</td>\n",
       "      <td>374.0</td>\n",
       "    </tr>\n",
       "    <tr>\n",
       "      <th>1</th>\n",
       "      <td>Av. Manquehue Nte. 958, Las Condes, Parque Ara...</td>\n",
       "      <td>ChIJ3bQIbtPPYpYRHdV3dzX_lYM</td>\n",
       "      <td>restaurant</td>\n",
       "      <td>Shawerma</td>\n",
       "      <td>ChIJLXfz627PYpYRXX4NU9Iugks</td>\n",
       "      <td>4.1</td>\n",
       "      <td>9.0</td>\n",
       "    </tr>\n",
       "    <tr>\n",
       "      <th>2</th>\n",
       "      <td>Av. Manquehue Nte. 958, Las Condes, Parque Ara...</td>\n",
       "      <td>ChIJ3bQIbtPPYpYRHdV3dzX_lYM</td>\n",
       "      <td>restaurant</td>\n",
       "      <td>Restaurante Messers</td>\n",
       "      <td>ChIJ_cRizEnPYpYRxgMIf7AWZNA</td>\n",
       "      <td>4.1</td>\n",
       "      <td>81.0</td>\n",
       "    </tr>\n",
       "    <tr>\n",
       "      <th>3</th>\n",
       "      <td>Av. Manquehue Nte. 958, Las Condes, Parque Ara...</td>\n",
       "      <td>ChIJ3bQIbtPPYpYRHdV3dzX_lYM</td>\n",
       "      <td>restaurant</td>\n",
       "      <td>K-fe</td>\n",
       "      <td>ChIJ575n4tfOYpYRRnv16mdOiJ0</td>\n",
       "      <td>4.0</td>\n",
       "      <td>1.0</td>\n",
       "    </tr>\n",
       "    <tr>\n",
       "      <th>4</th>\n",
       "      <td>Av. Manquehue Nte. 958, Las Condes, Parque Ara...</td>\n",
       "      <td>ChIJ3bQIbtPPYpYRHdV3dzX_lYM</td>\n",
       "      <td>grocery_or_supermarket</td>\n",
       "      <td>Spid: Miles de productos</td>\n",
       "      <td>ChIJ615L_AnPYpYRBmI-sv0NwLE</td>\n",
       "      <td>2.7</td>\n",
       "      <td>20.0</td>\n",
       "    </tr>\n",
       "  </tbody>\n",
       "</table>\n",
       "</div>"
      ],
      "text/plain": [
       "                                  Direccion_Original  \\\n",
       "0  Av. Manquehue Nte. 958, Las Condes, Parque Ara...   \n",
       "1  Av. Manquehue Nte. 958, Las Condes, Parque Ara...   \n",
       "2  Av. Manquehue Nte. 958, Las Condes, Parque Ara...   \n",
       "3  Av. Manquehue Nte. 958, Las Condes, Parque Ara...   \n",
       "4  Av. Manquehue Nte. 958, Las Condes, Parque Ara...   \n",
       "\n",
       "             Place_ID_Original                   Rubro  \\\n",
       "0  ChIJ3bQIbtPPYpYRHdV3dzX_lYM              restaurant   \n",
       "1  ChIJ3bQIbtPPYpYRHdV3dzX_lYM              restaurant   \n",
       "2  ChIJ3bQIbtPPYpYRHdV3dzX_lYM              restaurant   \n",
       "3  ChIJ3bQIbtPPYpYRHdV3dzX_lYM              restaurant   \n",
       "4  ChIJ3bQIbtPPYpYRHdV3dzX_lYM  grocery_or_supermarket   \n",
       "\n",
       "               Nombre_Lugar               Place_ID_Lugar  Rating  \\\n",
       "0               Latin Grill  ChIJ7_fk2NfOYpYRvKmszamPz9g     4.6   \n",
       "1                  Shawerma  ChIJLXfz627PYpYRXX4NU9Iugks     4.1   \n",
       "2       Restaurante Messers  ChIJ_cRizEnPYpYRxgMIf7AWZNA     4.1   \n",
       "3                      K-fe  ChIJ575n4tfOYpYRRnv16mdOiJ0     4.0   \n",
       "4  Spid: Miles de productos  ChIJ615L_AnPYpYRBmI-sv0NwLE     2.7   \n",
       "\n",
       "   User_Ratings_Total  \n",
       "0               374.0  \n",
       "1                 9.0  \n",
       "2                81.0  \n",
       "3                 1.0  \n",
       "4                20.0  "
      ]
     },
     "execution_count": 20,
     "metadata": {},
     "output_type": "execute_result"
    }
   ],
   "source": [
    "df_lugares.head(5)"
   ]
  },
  {
   "cell_type": "markdown",
   "metadata": {},
   "source": [
    "# 3  Gestión de Datos"
   ]
  },
  {
   "cell_type": "markdown",
   "metadata": {},
   "source": [
    "### 3.1 Creación de tablas"
   ]
  },
  {
   "cell_type": "markdown",
   "metadata": {},
   "source": [
    "El Place_ID puede repetirse, ya que hay arriendos de un mismo edificio y por tanto tienen la misma dirección. Se usa (Titulo, Precio, Direccion) como PRIMARY KEY"
   ]
  },
  {
   "cell_type": "code",
   "execution_count": 21,
   "metadata": {},
   "outputs": [],
   "source": [
    "# Crear conexión a la base de datos SQLite\n",
    "conn = sqlite3.connect('trabajo_final_ACD.db')\n",
    "cursor = conn.cursor()\n",
    "\n",
    "# Definir el esquema de la base de datos\n",
    "cursor.executescript('''\n",
    "BEGIN TRANSACTION;\n",
    "DROP TABLE IF EXISTS inmuebles;\n",
    "CREATE TABLE IF NOT EXISTS inmuebles (\n",
    "    Titulo TEXT,\n",
    "    Precio REAL,\n",
    "    Direccion TEXT,\n",
    "    Enlace TEXT,\n",
    "    Latitud REAL,\n",
    "    Longitud REAL,\n",
    "    Place_ID TEXT,\n",
    "    PRIMARY KEY (Titulo, Precio, Direccion)\n",
    ");\n",
    "COMMIT;               \n",
    "''')\n",
    "\n",
    "cursor.executescript('''\n",
    "BEGIN TRANSACTION;\n",
    "DROP TABLE IF EXISTS lugares_cercanos;\n",
    "CREATE TABLE IF NOT EXISTS lugares_cercanos (\n",
    "    id INTEGER PRIMARY KEY AUTOINCREMENT,\n",
    "    Direccion_Original TEXT,\n",
    "    Place_ID_Original TEXT,\n",
    "    Rubro TEXT,\n",
    "    Nombre_Lugar TEXT,\n",
    "    Place_ID_Lugar TEXT,\n",
    "    Rating REAL,\n",
    "    User_Ratings_Total INTEGER,\n",
    "    FOREIGN KEY (Direccion_Original) REFERENCES inmuebles (Direccion)\n",
    "    FOREIGN KEY (Place_ID_Original) REFERENCES inmuebles (Place_ID)\n",
    "                     \n",
    ");\n",
    "COMMIT;\n",
    "''')\n",
    "\n",
    "# Confirmar creación de tablas\n",
    "conn.commit()"
   ]
  },
  {
   "cell_type": "markdown",
   "metadata": {},
   "source": [
    "Cargamos datos a las tablas desde los dataframes"
   ]
  },
  {
   "cell_type": "code",
   "execution_count": 22,
   "metadata": {},
   "outputs": [],
   "source": [
    "# Insertar datos del DataFrame \"data_scrapping_procesada\" en la tabla \"inmuebles\"\n",
    "for index, row in data_scrapping_procesada.iterrows():\n",
    "    cursor.execute('''\n",
    "    INSERT INTO inmuebles (Titulo, Precio, Direccion, Enlace, Latitud, Longitud, Place_ID)\n",
    "    VALUES (?, ?, ?, ?, ?, ?, ?)\n",
    "    ''', (row['Título'], row['Precio'], row['Dirección'], row['Enlace'], row['Latitud'], row['Longitud'], row['Place_ID']))\n",
    "\n",
    "# Insertar datos del DataFrame \"df_lugares\" en la tabla \"lugares_cercanos\"\n",
    "for index, row in df_lugares.iterrows():\n",
    "    cursor.execute('''\n",
    "    INSERT INTO lugares_cercanos (Direccion_Original, Place_ID_Original, Rubro, Nombre_Lugar, Place_ID_Lugar, Rating, User_Ratings_Total)\n",
    "    VALUES (?, ?, ?, ?, ?, ?, ?)\n",
    "    ''', (row['Direccion_Original'], row['Place_ID_Original'], row['Rubro'], row['Nombre_Lugar'], row['Place_ID_Lugar'], row['Rating'], row['User_Ratings_Total']))\n",
    "\n",
    "# Confirmar inserción de datos\n",
    "conn.commit()\n",
    "\n",
    "conn.close()"
   ]
  },
  {
   "cell_type": "markdown",
   "metadata": {},
   "source": [
    "### 3.2 Consultas"
   ]
  },
  {
   "cell_type": "markdown",
   "metadata": {},
   "source": [
    "¿Cuál es el valor promedio de los 20 arriendos de dpto más baratos en Las Condes?"
   ]
  },
  {
   "cell_type": "code",
   "execution_count": 23,
   "metadata": {},
   "outputs": [
    {
     "name": "stdout",
     "output_type": "stream",
     "text": [
      "El valor promedio de los 20 arriendos más baratos es: $651596.55 CLP\n"
     ]
    }
   ],
   "source": [
    "# Conectar a la base de datos\n",
    "conn = sqlite3.connect('trabajo_final_ACD.db')\n",
    "cursor = conn.cursor()\n",
    "\n",
    "# Consulta SQL\n",
    "query = '''\n",
    "SELECT AVG(Precio) AS Promedio_Precio\n",
    "FROM (\n",
    "    SELECT Precio\n",
    "    FROM inmuebles\n",
    "    ORDER BY Precio ASC\n",
    "    LIMIT 20\n",
    ") AS top_20_baratos;\n",
    "'''\n",
    "\n",
    "# Ejecutar la consulta\n",
    "cursor.execute(query)\n",
    "resultado = cursor.fetchone()\n",
    "\n",
    "# Mostrar el resultado\n",
    "print(f\"El valor promedio de los 20 arriendos más baratos es: ${resultado[0]:.2f} CLP\")\n",
    "\n",
    "# Cerrar la conexión\n",
    "conn.close()"
   ]
  },
  {
   "cell_type": "markdown",
   "metadata": {},
   "source": [
    "¿Cuál es la mediana de comentarios (user_ra ngs_total), de aquellos lugares cercanos,\n",
    "que enen una valoración igual o superior a 4 estrellas y que corresponden a los 15\n",
    "dptos más baratos de Las Condes?"
   ]
  },
  {
   "cell_type": "code",
   "execution_count": 24,
   "metadata": {},
   "outputs": [
    {
     "name": "stdout",
     "output_type": "stream",
     "text": [
      "Mediana de usuarios que puntúan con al menos 4 estrellas los lugares cercanos de los 15 departamentos más baratos: 106.00\n"
     ]
    }
   ],
   "source": [
    "# Conectar a la base de datos\n",
    "conn = sqlite3.connect('trabajo_final_ACD.db')\n",
    "cursor = conn.cursor()\n",
    "\n",
    "# Consulta SQL\n",
    "query = '''\n",
    "\n",
    "-- los departamentos más baratos\n",
    "WITH top_15_baratos AS (\n",
    "SELECT *\n",
    "FROM inmuebles\n",
    "ORDER BY Precio ASC\n",
    "LIMIT 15\n",
    "),\n",
    "\n",
    "-- user rantings de los 15 mas baratos\n",
    "ratings AS (\n",
    "    SELECT l.User_Ratings_Total\n",
    "    FROM top_15_baratos t\n",
    "    LEFT JOIN lugares_cercanos l\n",
    "    ON t.Place_ID = l.Place_ID_Original\n",
    "    AND t.Direccion = l.Direccion_Original\n",
    "    AND l.Rating >= 4\n",
    "    ORDER BY l.User_Ratings_Total\n",
    "),\n",
    "\n",
    "-- ordenar user ratings\n",
    "ranked_ratings AS (\n",
    "    SELECT User_Ratings_Total,\n",
    "           ROW_NUMBER() OVER () AS row_num,\n",
    "           COUNT(*) OVER () AS total_count\n",
    "    FROM ratings\n",
    ")\n",
    "\n",
    "-- calcular mediana\n",
    "SELECT \n",
    "    CASE\n",
    "        WHEN total_count % 2 = 1 THEN \n",
    "            -- Si el número de elementos es impar, selecciona el valor central\n",
    "            (SELECT User_Ratings_Total FROM ranked_ratings WHERE row_num = (total_count + 1) / 2)\n",
    "        ELSE\n",
    "            -- Si el número de elementos es par, promedia los dos valores centrales\n",
    "            (\n",
    "                SELECT AVG(User_Ratings_Total) \n",
    "                FROM ranked_ratings \n",
    "                WHERE row_num IN (total_count / 2, total_count / 2 + 1)\n",
    "            )\n",
    "    END AS mediana\n",
    "FROM ranked_ratings\n",
    "LIMIT 1;\n",
    "'''\n",
    "\n",
    "# Ejecutar la consulta\n",
    "cursor.execute(query)\n",
    "resultado = cursor.fetchone()\n",
    "print(f\"Mediana de usuarios que puntúan con al menos 4 estrellas los lugares cercanos de los 15 departamentos más baratos: {resultado[0]:.2f}\")\n",
    "conn.close()"
   ]
  },
  {
   "cell_type": "markdown",
   "metadata": {},
   "source": [
    "# Conclusión\n",
    "\n",
    "Este trabajo nos permite consolidar los conocimientos prácticos en web scraping, manejo de APIs y gestión de bases de datos, aplicados a un problema real de consulta de inmuebles. La integración de herramientas como Selenium y las APIs de Google fomenta el desarrollo de habilidades técnicas avanzadas, mientras que la organización de los datos en una base relacional asegura un enfoque estructurado para el análisis.\n",
    "\n",
    "\n",
    "Destacamos una planificación eficiente, el uso responsable de recursos y la originalidad en la implementación, preparandonos para enfrentar desafíos similares en el ámbito profesional."
   ]
  }
 ],
 "metadata": {
  "kernelspec": {
   "display_name": "python_udd_venv",
   "language": "python",
   "name": "python3"
  },
  "language_info": {
   "codemirror_mode": {
    "name": "ipython",
    "version": 3
   },
   "file_extension": ".py",
   "mimetype": "text/x-python",
   "name": "python",
   "nbconvert_exporter": "python",
   "pygments_lexer": "ipython3",
   "version": "3.12.4"
  }
 },
 "nbformat": 4,
 "nbformat_minor": 2
}
