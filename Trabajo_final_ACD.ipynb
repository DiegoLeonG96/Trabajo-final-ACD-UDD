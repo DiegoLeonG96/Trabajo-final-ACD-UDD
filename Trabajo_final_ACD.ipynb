{
 "cells": [
  {
   "cell_type": "markdown",
   "metadata": {},
   "source": [
    "# Trabajo Final Almacenamiento y Captura de Datos\n",
    "\n",
    "Integrantes:\n",
    "- Diego León\n",
    "- Pablo Madariaga"
   ]
  },
  {
   "cell_type": "code",
   "execution_count": 23,
   "metadata": {},
   "outputs": [],
   "source": [
    "import pandas as pd\n",
    "from selenium import webdriver\n",
    "from selenium.webdriver.common.by import By\n",
    "from selenium.webdriver.support import expected_conditions as EC\n",
    "from selenium.webdriver.support.ui import WebDriverWait\n",
    "from selenium.webdriver.common.keys import Keys\n",
    "import time  \n",
    "import time  \n",
    "import requests\n",
    "import re"
   ]
  },
  {
   "cell_type": "markdown",
   "metadata": {},
   "source": [
    "## Web scrapping"
   ]
  },
  {
   "cell_type": "markdown",
   "metadata": {},
   "source": [
    "### inputs"
   ]
  },
  {
   "cell_type": "code",
   "execution_count": 6,
   "metadata": {},
   "outputs": [],
   "source": [
    "API_KEY = \"insertar_token_de_google\"\n",
    "URL = 'https://www.portalinmobiliario.com/'\n",
    "URL_UF = 'https://www.valoruf.cl/'\n",
    "TIPO_CONTRATO = 'arriendo' # venta, arriendo o arriendo_temporal\n",
    "TIPO_INMUEBLE = 'departamentos' # dpto, casa u oficina.\n",
    "UBICACION_INMUEBLE = 'las condes' # la comuna de la búsqueda\n",
    "MONTO_MINIMO = 500000 # monto mínimo de la búsqueda\n",
    "MONTO_MAXIMO = 1300000 # monto máximo de la búsqueda\n",
    "CANT_PAGINAS = 2 # número de páginas a recorrer\n",
    "RADIO_BUSQUEDA = '300' # radio (en metros) de búsqueda de lugares cercanos\n",
    "BUSQUEDA_RUBROS = ['restaurante', 'supermercado'] # rubro de lugares cercanos"
   ]
  },
  {
   "cell_type": "markdown",
   "metadata": {},
   "source": [
    "### 1a página: búsqueda inicial\n",
    "\n",
    "La única búsqueda en chat GPT fue para identificar dinámicamente la n-esima opción asociada\n",
    "a la búsqueda de la comuna"
   ]
  },
  {
   "cell_type": "code",
   "execution_count": 7,
   "metadata": {},
   "outputs": [],
   "source": [
    "tipo_contrato_dict = {\n",
    "    \"venta\": \":R2l5r:-menu-list-option-242075\",\n",
    "    \"arriendo\": \":R2l5r:-menu-list-option-242073\",\n",
    "    \"arriendo temporal\": \":R2l5r:-menu-list-option-242074\"\n",
    "}\n",
    "\n",
    "tipo_inmueble_dict = {\n",
    "    \"departamentos\": \":R4l5r:-menu-list-option-MLC1472_242062\",\n",
    "    \"casas\": \":R4l5r:-menu-list-option-MLC1466_242060\",\n",
    "    \"oficinas\": \":R4l5r:-menu-list-option-MLC1478_242067\",\n",
    "    \"parcelas\": \":R4l5r:-menu-list-option-MLC1496_242070\",\n",
    "    \"locales\": \":R4l5r:-menu-list-option-MLC50610_242065\",\n",
    "    \"terrenos\": \":R4l5r:-menu-list-option-MLC152992_245004\",\n",
    "    \"sitios\": \":R4l5r:-menu-list-option-MLC50613_245008\",\n",
    "    \"bodegas\": \":R4l5r:-menu-list-option-MLC50564_245003\",\n",
    "    \"industriales\": \":R4l5r:-menu-list-option-MLC50617_245009\",\n",
    "    \"agricolas\": \":R4l5r:-menu-list-option-MLC50623_242059\",\n",
    "    \"otros inmuebles\": \":R4l5r:-menu-list-option-MLC1892_242068\",\n",
    "    \"estacionamientos\": \":R4l5r:-menu-list-option-MLC50620_242064\",\n",
    "    \"loteos\": \":R4l5r:-menu-list-option-MLC1493_245010\",\n",
    "}"
   ]
  },
  {
   "cell_type": "code",
   "execution_count": 8,
   "metadata": {},
   "outputs": [],
   "source": [
    "# Configuramos el driver para el navegador Edge\n",
    "driver = webdriver.Edge()\n",
    "driver.set_window_size(1200, 800)  # Ancho: 1200px, Alto: 800px\n",
    "\n",
    "driver.get(URL)\n",
    "\n",
    "# Establecemos una espera implícita de 5 segundos para que la página cargue completamente\n",
    "driver.implicitly_wait(10)\n",
    "\n",
    "buscador_comuna = WebDriverWait(driver, 10).until(\n",
    "    EC.presence_of_element_located((By.ID, \":Rml5r:\"))\n",
    ")\n",
    "\n",
    "# Ingresa una comuna o ciudad\n",
    "buscador_comuna.send_keys(UBICACION_INMUEBLE)\n",
    "\n",
    "ul_comunas = \"andes-list.faceted-search-desktop-searchbox__list.andes-list--default.andes-list--selectable\"\n",
    "resultados = WebDriverWait(driver, 20).until(\n",
    "    EC.presence_of_element_located((By.CLASS_NAME, ul_comunas))\n",
    ")\n",
    "# seleccionar primera opcion de comuna\n",
    "primer_boton = resultados.find_element(By.XPATH, \"./li[1]/button\")\n",
    "primer_boton.click()\n",
    "\n",
    "\n",
    "# desplegar la lista de tipo de contrato y clickear el tipo deseado\n",
    "lista_tipo_contrato = WebDriverWait(driver, 10).until(\n",
    "    EC.element_to_be_clickable((By.ID, \":R2l5r:-trigger\"))\n",
    ")\n",
    "lista_tipo_contrato.click()\n",
    "select_tipo_contrato = WebDriverWait(driver, 10).until(\n",
    "    EC.element_to_be_clickable((By.ID, tipo_contrato_dict[TIPO_CONTRATO]))\n",
    ")\n",
    "select_tipo_contrato.click()\n",
    "\n",
    "tipo_inmueble = TIPO_INMUEBLE.lower().replace('á', 'a').replace('é', 'e').\\\n",
    "    replace('í', 'i').replace('ó', 'o').replace('ú', 'u')\n",
    "lista_tipo_inmueble = WebDriverWait(driver, 10).until(\n",
    "    EC.element_to_be_clickable((By.ID, \":R4l5r:-trigger\"))\n",
    ")\n",
    "lista_tipo_inmueble.click()\n",
    "\n",
    "select_tipo_inmueble = WebDriverWait(driver, 10).until(\n",
    "    EC.element_to_be_clickable((By.ID, tipo_inmueble_dict[tipo_inmueble]))\n",
    ")\n",
    "select_tipo_inmueble.click()\n",
    "\n",
    "\n",
    "# apretar buscar\n",
    "buscador = driver.find_element('id', ':R355r:')\n",
    "buscador.click()\n"
   ]
  },
  {
   "cell_type": "markdown",
   "metadata": {},
   "source": [
    "### 2do página: selección de restricciones\n",
    "\n",
    "seleccionar rango de precio "
   ]
  },
  {
   "cell_type": "code",
   "execution_count": 9,
   "metadata": {},
   "outputs": [],
   "source": [
    "ingreso_precio_min = driver.find_element('id', ':R5chjmee:')\n",
    "ingreso_precio_min.send_keys(MONTO_MINIMO)\n",
    "\n",
    "ingreso_precio_max = driver.find_element('id', ':R6chjmee:')\n",
    "ingreso_precio_max.send_keys(MONTO_MAXIMO)\n",
    "ingreso_precio_max.send_keys(Keys.RETURN)"
   ]
  },
  {
   "cell_type": "markdown",
   "metadata": {},
   "source": [
    "recorrer inmuebles\n",
    "\n",
    "- Para recorrer las páginas se decide navegar entre las urls implícitas en el botón siguiente.\n",
    "Esto porque al intentar clickear el botón a veces se bloquea y a veces no, lo cual es un comportamiento\n",
    "intermitente no deseable\n",
    "\n",
    "- Se agrega una columna temporal \"Tipo Moneda\" para saber que propiedades tienen el precio en UF"
   ]
  },
  {
   "cell_type": "code",
   "execution_count": 10,
   "metadata": {},
   "outputs": [
    {
     "data": {
      "text/html": [
       "<div>\n",
       "<style scoped>\n",
       "    .dataframe tbody tr th:only-of-type {\n",
       "        vertical-align: middle;\n",
       "    }\n",
       "\n",
       "    .dataframe tbody tr th {\n",
       "        vertical-align: top;\n",
       "    }\n",
       "\n",
       "    .dataframe thead th {\n",
       "        text-align: right;\n",
       "    }\n",
       "</style>\n",
       "<table border=\"1\" class=\"dataframe\">\n",
       "  <thead>\n",
       "    <tr style=\"text-align: right;\">\n",
       "      <th></th>\n",
       "      <th>Título</th>\n",
       "      <th>Precio</th>\n",
       "      <th>Dirección</th>\n",
       "      <th>Enlace</th>\n",
       "      <th>Tipo moneda</th>\n",
       "    </tr>\n",
       "  </thead>\n",
       "  <tbody>\n",
       "    <tr>\n",
       "      <th>0</th>\n",
       "      <td>Spot Nueva Kennedy</td>\n",
       "      <td>19</td>\n",
       "      <td>Av. Manquehue Nte. 958, Las Condes, Parque Ara...</td>\n",
       "      <td>https://portalinmobiliario.com/MLC-1555797337-...</td>\n",
       "      <td>UF</td>\n",
       "    </tr>\n",
       "    <tr>\n",
       "      <th>1</th>\n",
       "      <td>Augusto Leguía</td>\n",
       "      <td>815000</td>\n",
       "      <td>Augusto Leguía Nte. 70, Barrio El Golf, Las Co...</td>\n",
       "      <td>https://portalinmobiliario.com/MLC-2648931672-...</td>\n",
       "      <td>CLP</td>\n",
       "    </tr>\n",
       "    <tr>\n",
       "      <th>2</th>\n",
       "      <td>Vespucio Switch</td>\n",
       "      <td>879178</td>\n",
       "      <td>Av. Américo Vespucio Sur 345, Metro Escuela Mi...</td>\n",
       "      <td>https://portalinmobiliario.com/MLC-1525161537-...</td>\n",
       "      <td>CLP</td>\n",
       "    </tr>\n",
       "    <tr>\n",
       "      <th>3</th>\n",
       "      <td>Somma Asturias - Edificio Multifamily</td>\n",
       "      <td>830000</td>\n",
       "      <td>Asturias 77, Metro Escuela Militar, Las Condes...</td>\n",
       "      <td>https://portalinmobiliario.com/MLC-1408634227-...</td>\n",
       "      <td>CLP</td>\n",
       "    </tr>\n",
       "    <tr>\n",
       "      <th>4</th>\n",
       "      <td>Dpto Amoblado Remodelado 2d+2b Los Militares C...</td>\n",
       "      <td>27</td>\n",
       "      <td>Los Militares 4717, Metro Escuela Militar, Las...</td>\n",
       "      <td>https://portalinmobiliario.com/MLC-2814352114-...</td>\n",
       "      <td>UF</td>\n",
       "    </tr>\n",
       "  </tbody>\n",
       "</table>\n",
       "</div>"
      ],
      "text/plain": [
       "                                              Título  Precio  \\\n",
       "0                                 Spot Nueva Kennedy      19   \n",
       "1                                     Augusto Leguía  815000   \n",
       "2                                    Vespucio Switch  879178   \n",
       "3              Somma Asturias - Edificio Multifamily  830000   \n",
       "4  Dpto Amoblado Remodelado 2d+2b Los Militares C...      27   \n",
       "\n",
       "                                           Dirección  \\\n",
       "0  Av. Manquehue Nte. 958, Las Condes, Parque Ara...   \n",
       "1  Augusto Leguía Nte. 70, Barrio El Golf, Las Co...   \n",
       "2  Av. Américo Vespucio Sur 345, Metro Escuela Mi...   \n",
       "3  Asturias 77, Metro Escuela Militar, Las Condes...   \n",
       "4  Los Militares 4717, Metro Escuela Militar, Las...   \n",
       "\n",
       "                                              Enlace Tipo moneda  \n",
       "0  https://portalinmobiliario.com/MLC-1555797337-...          UF  \n",
       "1  https://portalinmobiliario.com/MLC-2648931672-...         CLP  \n",
       "2  https://portalinmobiliario.com/MLC-1525161537-...         CLP  \n",
       "3  https://portalinmobiliario.com/MLC-1408634227-...         CLP  \n",
       "4  https://portalinmobiliario.com/MLC-2814352114-...          UF  "
      ]
     },
     "execution_count": 10,
     "metadata": {},
     "output_type": "execute_result"
    }
   ],
   "source": [
    "from selenium.common.exceptions import InvalidArgumentException\n",
    "\n",
    "titulos, precios, direcciones, links_props = [], [], [], []\n",
    "for i in range(CANT_PAGINAS):\n",
    "\n",
    "    # Extraer todos los títulos de las propiedades\n",
    "    titulos_values = driver.find_elements(By.XPATH, \"//h2[@class='poly-box poly-component__title']/a\")\n",
    "    titulos += [t.text for t in titulos_values]\n",
    "\n",
    "    # Extraer todos los precios de las propiedades\n",
    "    precios_values = driver.find_elements(By.XPATH, \"//div[@class='poly-component__price']//span[@class='andes-money-amount__fraction']\")\n",
    "    precios += [p.text for p in precios_values]\n",
    "\n",
    "    # Intentar con un XPath más general para encontrar la dirección\n",
    "    direcciones_values = driver.find_elements(By.XPATH, \"//span[contains(@class, 'poly-component__location')]\")\n",
    "    direcciones += [d.text for d in direcciones_values]\n",
    "\n",
    "    # Lo mismo para los enlaces\n",
    "    links_props_values = driver.find_elements(By.XPATH,  \"//h2[@class='poly-box poly-component__title']/a\")\n",
    "    links_props += [l.get_attribute('href') for l in links_props_values]\n",
    "\n",
    "    if i<CANT_PAGINAS-1: # hacer click en siguiente\n",
    "        try:\n",
    "            boton_siguiente = driver.find_element(By.XPATH, \"//li[contains(@class, 'andes-pagination__button--next')]/a\")\n",
    "            url_siguiente = boton_siguiente.get_attribute(\"href\")\n",
    "            driver.get(url_siguiente)\n",
    "        except InvalidArgumentException: # se piden mas paginas de las que hay\n",
    "            pass\n",
    "data_scrapping = pd.DataFrame({\n",
    "    \"Título\": titulos,\n",
    "    \"Precio\": precios,\n",
    "    \"Dirección\": direcciones,\n",
    "    \"Enlace\": links_props\n",
    "})\n",
    "\n",
    "# diferenciar precios en UF\n",
    "data_scrapping['Precio'] = data_scrapping['Precio'].str.replace('.', '')\n",
    "data_scrapping['Precio'] = data_scrapping['Precio'].astype(int)\n",
    "data_scrapping['Tipo moneda'] = 'CLP'\n",
    "out_borders = (data_scrapping['Precio']>MONTO_MAXIMO) | (data_scrapping['Precio']<MONTO_MINIMO)\n",
    "data_scrapping.loc[out_borders, 'Tipo moneda'] = 'UF'\n",
    "data_scrapping.head(5)"
   ]
  },
  {
   "cell_type": "code",
   "execution_count": 11,
   "metadata": {},
   "outputs": [
    {
     "data": {
      "text/plain": [
       "96"
      ]
     },
     "execution_count": 11,
     "metadata": {},
     "output_type": "execute_result"
    }
   ],
   "source": [
    "len(data_scrapping)"
   ]
  },
  {
   "cell_type": "code",
   "execution_count": 12,
   "metadata": {},
   "outputs": [
    {
     "data": {
      "text/plain": [
       "count    9.600000e+01\n",
       "mean     4.866648e+05\n",
       "std      4.575840e+05\n",
       "min      1.600000e+01\n",
       "25%      2.500000e+01\n",
       "50%      6.500000e+05\n",
       "75%      8.700000e+05\n",
       "max      1.300000e+06\n",
       "Name: Precio, dtype: float64"
      ]
     },
     "execution_count": 12,
     "metadata": {},
     "output_type": "execute_result"
    }
   ],
   "source": [
    "data_scrapping['Precio'].describe()"
   ]
  },
  {
   "cell_type": "markdown",
   "metadata": {},
   "source": [
    "### Valor UF"
   ]
  },
  {
   "cell_type": "code",
   "execution_count": 14,
   "metadata": {},
   "outputs": [
    {
     "name": "stdout",
     "output_type": "stream",
     "text": [
      "El valor de la UF actualizado es: 38411.74\n"
     ]
    }
   ],
   "source": [
    "# Configuramos el driver para el navegador Edge\n",
    "driver = webdriver.Edge()\n",
    "driver.set_window_size(1200, 800)  # Ancho: 1200px, Alto: 800px\n",
    "\n",
    "driver.get(URL_UF)\n",
    "\n",
    "# Establecemos una espera implícita de 5 segundos para que la página cargue completamente\n",
    "driver.implicitly_wait(10)\n",
    "valor_uf = driver.find_element(By.XPATH, \"//span[@class='vpr']\").text\n",
    "valor_uf = float(valor_uf.replace('$', '').replace(' ', '').replace('.', '').replace(',', '.'))\n",
    "print(f'El valor de la UF actualizado es: {valor_uf}')\n",
    "\n",
    "time.sleep(5)\n",
    "driver.close() \n"
   ]
  },
  {
   "cell_type": "code",
   "execution_count": 15,
   "metadata": {},
   "outputs": [
    {
     "data": {
      "text/html": [
       "<div>\n",
       "<style scoped>\n",
       "    .dataframe tbody tr th:only-of-type {\n",
       "        vertical-align: middle;\n",
       "    }\n",
       "\n",
       "    .dataframe tbody tr th {\n",
       "        vertical-align: top;\n",
       "    }\n",
       "\n",
       "    .dataframe thead th {\n",
       "        text-align: right;\n",
       "    }\n",
       "</style>\n",
       "<table border=\"1\" class=\"dataframe\">\n",
       "  <thead>\n",
       "    <tr style=\"text-align: right;\">\n",
       "      <th></th>\n",
       "      <th>Título</th>\n",
       "      <th>Precio</th>\n",
       "      <th>Dirección</th>\n",
       "      <th>Enlace</th>\n",
       "    </tr>\n",
       "  </thead>\n",
       "  <tbody>\n",
       "    <tr>\n",
       "      <th>0</th>\n",
       "      <td>Spot Nueva Kennedy</td>\n",
       "      <td>729823</td>\n",
       "      <td>Av. Manquehue Nte. 958, Las Condes, Parque Ara...</td>\n",
       "      <td>https://portalinmobiliario.com/MLC-1555797337-...</td>\n",
       "    </tr>\n",
       "    <tr>\n",
       "      <th>1</th>\n",
       "      <td>Augusto Leguía</td>\n",
       "      <td>815000</td>\n",
       "      <td>Augusto Leguía Nte. 70, Barrio El Golf, Las Co...</td>\n",
       "      <td>https://portalinmobiliario.com/MLC-2648931672-...</td>\n",
       "    </tr>\n",
       "    <tr>\n",
       "      <th>2</th>\n",
       "      <td>Vespucio Switch</td>\n",
       "      <td>879178</td>\n",
       "      <td>Av. Américo Vespucio Sur 345, Metro Escuela Mi...</td>\n",
       "      <td>https://portalinmobiliario.com/MLC-1525161537-...</td>\n",
       "    </tr>\n",
       "    <tr>\n",
       "      <th>3</th>\n",
       "      <td>Somma Asturias - Edificio Multifamily</td>\n",
       "      <td>830000</td>\n",
       "      <td>Asturias 77, Metro Escuela Militar, Las Condes...</td>\n",
       "      <td>https://portalinmobiliario.com/MLC-1408634227-...</td>\n",
       "    </tr>\n",
       "    <tr>\n",
       "      <th>4</th>\n",
       "      <td>Dpto Amoblado Remodelado 2d+2b Los Militares C...</td>\n",
       "      <td>1037116</td>\n",
       "      <td>Los Militares 4717, Metro Escuela Militar, Las...</td>\n",
       "      <td>https://portalinmobiliario.com/MLC-2814352114-...</td>\n",
       "    </tr>\n",
       "  </tbody>\n",
       "</table>\n",
       "</div>"
      ],
      "text/plain": [
       "                                              Título   Precio  \\\n",
       "0                                 Spot Nueva Kennedy   729823   \n",
       "1                                     Augusto Leguía   815000   \n",
       "2                                    Vespucio Switch   879178   \n",
       "3              Somma Asturias - Edificio Multifamily   830000   \n",
       "4  Dpto Amoblado Remodelado 2d+2b Los Militares C...  1037116   \n",
       "\n",
       "                                           Dirección  \\\n",
       "0  Av. Manquehue Nte. 958, Las Condes, Parque Ara...   \n",
       "1  Augusto Leguía Nte. 70, Barrio El Golf, Las Co...   \n",
       "2  Av. Américo Vespucio Sur 345, Metro Escuela Mi...   \n",
       "3  Asturias 77, Metro Escuela Militar, Las Condes...   \n",
       "4  Los Militares 4717, Metro Escuela Militar, Las...   \n",
       "\n",
       "                                              Enlace  \n",
       "0  https://portalinmobiliario.com/MLC-1555797337-...  \n",
       "1  https://portalinmobiliario.com/MLC-2648931672-...  \n",
       "2  https://portalinmobiliario.com/MLC-1525161537-...  \n",
       "3  https://portalinmobiliario.com/MLC-1408634227-...  \n",
       "4  https://portalinmobiliario.com/MLC-2814352114-...  "
      ]
     },
     "execution_count": 15,
     "metadata": {},
     "output_type": "execute_result"
    }
   ],
   "source": [
    "data_scrapping_procesada = data_scrapping.copy()\n",
    "data_scrapping_procesada['Precio'] = data_scrapping_procesada.apply(lambda row: row['Precio']*valor_uf \\\n",
    "    if row['Tipo moneda'] == 'UF' else row['Precio'], axis = 1)\n",
    "data_scrapping_procesada['Precio'] = data_scrapping_procesada['Precio'].astype(int)\n",
    "data_scrapping_procesada.drop(['Tipo moneda'], axis = 1, inplace = True)\n",
    "data_scrapping_procesada = data_scrapping_procesada[(data_scrapping_procesada['Precio']>=MONTO_MINIMO) & (data_scrapping_procesada['Precio']<=MONTO_MAXIMO)]\n",
    "data_scrapping_procesada.head(5)"
   ]
  },
  {
   "cell_type": "code",
   "execution_count": 16,
   "metadata": {},
   "outputs": [
    {
     "data": {
      "text/plain": [
       "count    9.600000e+01\n",
       "mean     8.891772e+05\n",
       "std      2.016921e+05\n",
       "min      5.500000e+05\n",
       "25%      7.162500e+05\n",
       "50%      8.745890e+05\n",
       "75%      1.075528e+06\n",
       "max      1.300000e+06\n",
       "Name: Precio, dtype: float64"
      ]
     },
     "execution_count": 16,
     "metadata": {},
     "output_type": "execute_result"
    }
   ],
   "source": [
    "data_scrapping_procesada['Precio'].describe()"
   ]
  },
  {
   "cell_type": "markdown",
   "metadata": {},
   "source": [
    "### Procesamiento direcciones"
   ]
  },
  {
   "cell_type": "markdown",
   "metadata": {},
   "source": [
    "Direcciones con problemas: intervalos numéricos sin dar la dirección exacta\n",
    "\n",
    "Se consulta chat GPT por el pattern exacto a ocupar"
   ]
  },
  {
   "cell_type": "code",
   "execution_count": 17,
   "metadata": {},
   "outputs": [
    {
     "name": "stderr",
     "output_type": "stream",
     "text": [
      "C:\\Users\\Diego\\AppData\\Local\\Temp\\ipykernel_16152\\2147432578.py:5: UserWarning: This pattern is interpreted as a regular expression, and has match groups. To actually get the groups, use str.extract.\n",
      "  data_scrapping_procesada[data_scrapping_procesada['Dirección'].str.contains(pattern, flags=re.IGNORECASE, regex=True)].head(10)\n"
     ]
    },
    {
     "data": {
      "text/html": [
       "<div>\n",
       "<style scoped>\n",
       "    .dataframe tbody tr th:only-of-type {\n",
       "        vertical-align: middle;\n",
       "    }\n",
       "\n",
       "    .dataframe tbody tr th {\n",
       "        vertical-align: top;\n",
       "    }\n",
       "\n",
       "    .dataframe thead th {\n",
       "        text-align: right;\n",
       "    }\n",
       "</style>\n",
       "<table border=\"1\" class=\"dataframe\">\n",
       "  <thead>\n",
       "    <tr style=\"text-align: right;\">\n",
       "      <th></th>\n",
       "      <th>Título</th>\n",
       "      <th>Precio</th>\n",
       "      <th>Dirección</th>\n",
       "      <th>Enlace</th>\n",
       "    </tr>\n",
       "  </thead>\n",
       "  <tbody>\n",
       "    <tr>\n",
       "      <th>12</th>\n",
       "      <td>Guanabara 2d2b + Est Y Bdga, Las Condes</td>\n",
       "      <td>1180000</td>\n",
       "      <td>Guanabara 900 - 1200, Las Condes, Rotonda Aten...</td>\n",
       "      <td>https://portalinmobiliario.com/MLC-2814805660-...</td>\n",
       "    </tr>\n",
       "    <tr>\n",
       "      <th>18</th>\n",
       "      <td>Arrienda Studio Nuevo Amoblado Moderno Edifici...</td>\n",
       "      <td>690000</td>\n",
       "      <td>Las Tranqueras 1 - 300, Las Condes, Alto Las C...</td>\n",
       "      <td>https://portalinmobiliario.com/MLC-2812221716-...</td>\n",
       "    </tr>\n",
       "    <tr>\n",
       "      <th>29</th>\n",
       "      <td>Metro Manquehue/4 Amplios Dormitorios/la Recon...</td>\n",
       "      <td>1050000</td>\n",
       "      <td>La Reconquista 863, 7.5801e+06 - 7.5804e+06 La...</td>\n",
       "      <td>https://portalinmobiliario.com/MLC-2809126410-...</td>\n",
       "    </tr>\n",
       "    <tr>\n",
       "      <th>30</th>\n",
       "      <td>Metro H De Magallanes/nuevo/sin Uso/1 Dormitor...</td>\n",
       "      <td>729823</td>\n",
       "      <td>Fontana Rosa 7106, 7.5705e+06 - 7.5708e+06 Las...</td>\n",
       "      <td>https://portalinmobiliario.com/MLC-1558905789-...</td>\n",
       "    </tr>\n",
       "    <tr>\n",
       "      <th>32</th>\n",
       "      <td>Amoblado/metro H.de Magallanes/1dormitorio/est...</td>\n",
       "      <td>768234</td>\n",
       "      <td>Los Ilanes 140, 7.5603e+06 - 7.5606e+06 Las Co...</td>\n",
       "      <td>https://portalinmobiliario.com/MLC-2808819448-...</td>\n",
       "    </tr>\n",
       "    <tr>\n",
       "      <th>33</th>\n",
       "      <td>El Golf/2 Dormitorios/2 Baños/estacionamiento</td>\n",
       "      <td>870000</td>\n",
       "      <td>Roger De Flor 2700 - 3000, Las Condes, Barrio ...</td>\n",
       "      <td>https://portalinmobiliario.com/MLC-2808291140-...</td>\n",
       "    </tr>\n",
       "    <tr>\n",
       "      <th>35</th>\n",
       "      <td>Oportunidad, Departamento De 1 Dormitorio Con ...</td>\n",
       "      <td>700000</td>\n",
       "      <td>Hnos Cabot 7800 - 8100, Las Condes, Alto Las C...</td>\n",
       "      <td>https://portalinmobiliario.com/MLC-2814626488-...</td>\n",
       "    </tr>\n",
       "    <tr>\n",
       "      <th>39</th>\n",
       "      <td>Excelente Dep 3h2b, 1 Est, Piscina A Pasos Met...</td>\n",
       "      <td>1075528</td>\n",
       "      <td>Escandinavia 110, 7.5606e+06 - 7.5609e+06 Las ...</td>\n",
       "      <td>https://portalinmobiliario.com/MLC-2806717968-...</td>\n",
       "    </tr>\n",
       "    <tr>\n",
       "      <th>44</th>\n",
       "      <td>Excelente Depto. Un Dorm. Amoblado A Pasos Met...</td>\n",
       "      <td>730000</td>\n",
       "      <td>Evaristo Lillo 29, Depto 1 - 300, Las Condes, ...</td>\n",
       "      <td>https://portalinmobiliario.com/MLC-2805523956-...</td>\n",
       "    </tr>\n",
       "    <tr>\n",
       "      <th>45</th>\n",
       "      <td>Excelente Depto. 1 Dorm. Amoblado Metro Alcantara</td>\n",
       "      <td>940000</td>\n",
       "      <td>Alsacia 1 - 300, Las Condes, Barrio El Golf, L...</td>\n",
       "      <td>https://portalinmobiliario.com/MLC-1560527075-...</td>\n",
       "    </tr>\n",
       "  </tbody>\n",
       "</table>\n",
       "</div>"
      ],
      "text/plain": [
       "                                               Título   Precio  \\\n",
       "12            Guanabara 2d2b + Est Y Bdga, Las Condes  1180000   \n",
       "18  Arrienda Studio Nuevo Amoblado Moderno Edifici...   690000   \n",
       "29  Metro Manquehue/4 Amplios Dormitorios/la Recon...  1050000   \n",
       "30  Metro H De Magallanes/nuevo/sin Uso/1 Dormitor...   729823   \n",
       "32  Amoblado/metro H.de Magallanes/1dormitorio/est...   768234   \n",
       "33      El Golf/2 Dormitorios/2 Baños/estacionamiento   870000   \n",
       "35  Oportunidad, Departamento De 1 Dormitorio Con ...   700000   \n",
       "39  Excelente Dep 3h2b, 1 Est, Piscina A Pasos Met...  1075528   \n",
       "44  Excelente Depto. Un Dorm. Amoblado A Pasos Met...   730000   \n",
       "45  Excelente Depto. 1 Dorm. Amoblado Metro Alcantara   940000   \n",
       "\n",
       "                                            Dirección  \\\n",
       "12  Guanabara 900 - 1200, Las Condes, Rotonda Aten...   \n",
       "18  Las Tranqueras 1 - 300, Las Condes, Alto Las C...   \n",
       "29  La Reconquista 863, 7.5801e+06 - 7.5804e+06 La...   \n",
       "30  Fontana Rosa 7106, 7.5705e+06 - 7.5708e+06 Las...   \n",
       "32  Los Ilanes 140, 7.5603e+06 - 7.5606e+06 Las Co...   \n",
       "33  Roger De Flor 2700 - 3000, Las Condes, Barrio ...   \n",
       "35  Hnos Cabot 7800 - 8100, Las Condes, Alto Las C...   \n",
       "39  Escandinavia 110, 7.5606e+06 - 7.5609e+06 Las ...   \n",
       "44  Evaristo Lillo 29, Depto 1 - 300, Las Condes, ...   \n",
       "45  Alsacia 1 - 300, Las Condes, Barrio El Golf, L...   \n",
       "\n",
       "                                               Enlace  \n",
       "12  https://portalinmobiliario.com/MLC-2814805660-...  \n",
       "18  https://portalinmobiliario.com/MLC-2812221716-...  \n",
       "29  https://portalinmobiliario.com/MLC-2809126410-...  \n",
       "30  https://portalinmobiliario.com/MLC-1558905789-...  \n",
       "32  https://portalinmobiliario.com/MLC-2808819448-...  \n",
       "33  https://portalinmobiliario.com/MLC-2808291140-...  \n",
       "35  https://portalinmobiliario.com/MLC-2814626488-...  \n",
       "39  https://portalinmobiliario.com/MLC-2806717968-...  \n",
       "44  https://portalinmobiliario.com/MLC-2805523956-...  \n",
       "45  https://portalinmobiliario.com/MLC-1560527075-...  "
      ]
     },
     "execution_count": 17,
     "metadata": {},
     "output_type": "execute_result"
    }
   ],
   "source": [
    "# Expresión regular para buscar direcciones con un intervalo numérico\n",
    "pattern = r'\\b(\\d+(?:\\.\\d+)?(?:e[+-]?\\d+)?)\\s*-\\s*(\\d+(?:\\.\\d+)?(?:e[+-]?\\d+)?)\\b'\n",
    "data_scrapping_procesada[data_scrapping_procesada['Dirección'].str.contains(pattern, flags=re.IGNORECASE, regex=True)].head(10)"
   ]
  },
  {
   "cell_type": "code",
   "execution_count": 18,
   "metadata": {},
   "outputs": [
    {
     "name": "stderr",
     "output_type": "stream",
     "text": [
      "C:\\Users\\Diego\\AppData\\Local\\Temp\\ipykernel_16152\\2078627988.py:13: UserWarning: This pattern is interpreted as a regular expression, and has match groups. To actually get the groups, use str.extract.\n",
      "  data_scrapping_procesada[data_scrapping_procesada['Dirección'].str.contains(pattern, flags=re.IGNORECASE, regex=True)]\n"
     ]
    },
    {
     "data": {
      "text/html": [
       "<div>\n",
       "<style scoped>\n",
       "    .dataframe tbody tr th:only-of-type {\n",
       "        vertical-align: middle;\n",
       "    }\n",
       "\n",
       "    .dataframe tbody tr th {\n",
       "        vertical-align: top;\n",
       "    }\n",
       "\n",
       "    .dataframe thead th {\n",
       "        text-align: right;\n",
       "    }\n",
       "</style>\n",
       "<table border=\"1\" class=\"dataframe\">\n",
       "  <thead>\n",
       "    <tr style=\"text-align: right;\">\n",
       "      <th></th>\n",
       "      <th>Título</th>\n",
       "      <th>Precio</th>\n",
       "      <th>Dirección</th>\n",
       "      <th>Enlace</th>\n",
       "    </tr>\n",
       "  </thead>\n",
       "  <tbody>\n",
       "  </tbody>\n",
       "</table>\n",
       "</div>"
      ],
      "text/plain": [
       "Empty DataFrame\n",
       "Columns: [Título, Precio, Dirección, Enlace]\n",
       "Index: []"
      ]
     },
     "execution_count": 18,
     "metadata": {},
     "output_type": "execute_result"
    }
   ],
   "source": [
    "def corregir_direccion(direccion):\n",
    "    match = re.search(pattern, direccion)\n",
    "    if match:\n",
    "        inicio, fin = map(float, match.groups())\n",
    "        promedio = (inicio + fin) / 2\n",
    "        return re.sub(pattern, f\"{promedio:.0f}\", direccion)\n",
    "    else:\n",
    "        return direccion\n",
    "\n",
    "\n",
    "# Crear nueva dirección procesada\n",
    "data_scrapping_procesada['Dirección'] = data_scrapping_procesada['Dirección'].apply(corregir_direccion)\n",
    "data_scrapping_procesada[data_scrapping_procesada['Dirección'].str.contains(pattern, flags=re.IGNORECASE, regex=True)]\n",
    "\n"
   ]
  },
  {
   "cell_type": "code",
   "execution_count": 19,
   "metadata": {},
   "outputs": [
    {
     "data": {
      "text/html": [
       "<div>\n",
       "<style scoped>\n",
       "    .dataframe tbody tr th:only-of-type {\n",
       "        vertical-align: middle;\n",
       "    }\n",
       "\n",
       "    .dataframe tbody tr th {\n",
       "        vertical-align: top;\n",
       "    }\n",
       "\n",
       "    .dataframe thead th {\n",
       "        text-align: right;\n",
       "    }\n",
       "</style>\n",
       "<table border=\"1\" class=\"dataframe\">\n",
       "  <thead>\n",
       "    <tr style=\"text-align: right;\">\n",
       "      <th></th>\n",
       "      <th>Título</th>\n",
       "      <th>Precio</th>\n",
       "      <th>Dirección</th>\n",
       "      <th>Enlace</th>\n",
       "    </tr>\n",
       "  </thead>\n",
       "  <tbody>\n",
       "    <tr>\n",
       "      <th>0</th>\n",
       "      <td>Spot Nueva Kennedy</td>\n",
       "      <td>729823</td>\n",
       "      <td>Av. Manquehue Nte. 958, Las Condes, Parque Ara...</td>\n",
       "      <td>https://portalinmobiliario.com/MLC-1555797337-...</td>\n",
       "    </tr>\n",
       "    <tr>\n",
       "      <th>1</th>\n",
       "      <td>Augusto Leguía</td>\n",
       "      <td>815000</td>\n",
       "      <td>Augusto Leguía Nte. 70, Barrio El Golf, Las Co...</td>\n",
       "      <td>https://portalinmobiliario.com/MLC-2648931672-...</td>\n",
       "    </tr>\n",
       "    <tr>\n",
       "      <th>2</th>\n",
       "      <td>Vespucio Switch</td>\n",
       "      <td>879178</td>\n",
       "      <td>Av. Américo Vespucio Sur 345, Metro Escuela Mi...</td>\n",
       "      <td>https://portalinmobiliario.com/MLC-1525161537-...</td>\n",
       "    </tr>\n",
       "    <tr>\n",
       "      <th>3</th>\n",
       "      <td>Somma Asturias - Edificio Multifamily</td>\n",
       "      <td>830000</td>\n",
       "      <td>Asturias 77, Metro Escuela Militar, Las Condes...</td>\n",
       "      <td>https://portalinmobiliario.com/MLC-1408634227-...</td>\n",
       "    </tr>\n",
       "    <tr>\n",
       "      <th>4</th>\n",
       "      <td>Dpto Amoblado Remodelado 2d+2b Los Militares C...</td>\n",
       "      <td>1037116</td>\n",
       "      <td>Los Militares 4717, Metro Escuela Militar, Las...</td>\n",
       "      <td>https://portalinmobiliario.com/MLC-2814352114-...</td>\n",
       "    </tr>\n",
       "  </tbody>\n",
       "</table>\n",
       "</div>"
      ],
      "text/plain": [
       "                                              Título   Precio  \\\n",
       "0                                 Spot Nueva Kennedy   729823   \n",
       "1                                     Augusto Leguía   815000   \n",
       "2                                    Vespucio Switch   879178   \n",
       "3              Somma Asturias - Edificio Multifamily   830000   \n",
       "4  Dpto Amoblado Remodelado 2d+2b Los Militares C...  1037116   \n",
       "\n",
       "                                           Dirección  \\\n",
       "0  Av. Manquehue Nte. 958, Las Condes, Parque Ara...   \n",
       "1  Augusto Leguía Nte. 70, Barrio El Golf, Las Co...   \n",
       "2  Av. Américo Vespucio Sur 345, Metro Escuela Mi...   \n",
       "3  Asturias 77, Metro Escuela Militar, Las Condes...   \n",
       "4  Los Militares 4717, Metro Escuela Militar, Las...   \n",
       "\n",
       "                                              Enlace  \n",
       "0  https://portalinmobiliario.com/MLC-1555797337-...  \n",
       "1  https://portalinmobiliario.com/MLC-2648931672-...  \n",
       "2  https://portalinmobiliario.com/MLC-1525161537-...  \n",
       "3  https://portalinmobiliario.com/MLC-1408634227-...  \n",
       "4  https://portalinmobiliario.com/MLC-2814352114-...  "
      ]
     },
     "execution_count": 19,
     "metadata": {},
     "output_type": "execute_result"
    }
   ],
   "source": [
    "data_scrapping_procesada.head(5)"
   ]
  },
  {
   "cell_type": "markdown",
   "metadata": {},
   "source": [
    "## Geocoding y places"
   ]
  },
  {
   "cell_type": "code",
   "execution_count": null,
   "metadata": {},
   "outputs": [],
   "source": [
    "\n",
    "# Función para obtener datos de geocoding\n",
    "def obtener_datos_geocoding(direccion):\n",
    "    url = f\"https://maps.googleapis.com/maps/api/geocode/json?address={direccion}&key={API_KEY}\"\n",
    "    response = requests.get(url)\n",
    "    if response.status_code == 200:\n",
    "        data = response.json()\n",
    "        if data[\"results\"]:\n",
    "            geometry = data[\"results\"][0][\"geometry\"]\n",
    "            location = geometry[\"location\"]\n",
    "            place_id = data[\"results\"][0][\"place_id\"]\n",
    "            return {'geometry': {'location': location}, 'place_id': place_id}\n",
    "    return {'geometry': {'location': {'lat': None, 'lng': None}}, 'place_id': None}\n",
    "\n",
    "# Añadir datos al DataFrame\n",
    "data_scrapping_procesada['Geocoding_Data'] = data_scrapping_procesada['Dirección'].apply(obtener_datos_geocoding)\n",
    "\n",
    "# Separar columnas para latitud, longitud y place_id\n",
    "data_scrapping_procesada['Latitud'] = data_scrapping_procesada['Geocoding_Data'].apply(lambda x: x['geometry']['location']['lat'])\n",
    "data_scrapping_procesada['Longitud'] = data_scrapping_procesada['Geocoding_Data'].apply(lambda x: x['geometry']['location']['lng'])\n",
    "data_scrapping_procesada['Place_ID'] = data_scrapping_procesada['Geocoding_Data'].apply(lambda x: x['place_id'])\n",
    "\n",
    "# Mostrar el DataFrame actualizado\n",
    "print(data_scrapping_procesada[['Dirección', 'Latitud', 'Longitud', 'Place_ID']])"
   ]
  }
 ],
 "metadata": {
  "kernelspec": {
   "display_name": "python_udd_venv",
   "language": "python",
   "name": "python3"
  },
  "language_info": {
   "codemirror_mode": {
    "name": "ipython",
    "version": 3
   },
   "file_extension": ".py",
   "mimetype": "text/x-python",
   "name": "python",
   "nbconvert_exporter": "python",
   "pygments_lexer": "ipython3",
   "version": "3.12.4"
  }
 },
 "nbformat": 4,
 "nbformat_minor": 2
}
